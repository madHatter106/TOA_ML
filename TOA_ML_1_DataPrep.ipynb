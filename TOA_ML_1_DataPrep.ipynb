{
 "cells": [
  {
   "cell_type": "code",
   "execution_count": 83,
   "metadata": {},
   "outputs": [],
   "source": [
    "import pandas as pd\n",
    "import numpy as np\n",
    "pd.options.mode.chained_assignment = None"
   ]
  },
  {
   "cell_type": "code",
   "execution_count": 2,
   "metadata": {},
   "outputs": [],
   "source": [
    "% matplotlib inline"
   ]
  },
  {
   "cell_type": "code",
   "execution_count": 3,
   "metadata": {},
   "outputs": [],
   "source": [
    "with open('./data/nomad_seawifs_v2.a2_2008200.txt', 'r') as f:\n",
    "    for line in f:\n",
    "        if 'fields=' in line:\n",
    "            break\n",
    "columns = line.strip().strip('/fields=').split(',')"
   ]
  },
  {
   "cell_type": "code",
   "execution_count": 4,
   "metadata": {},
   "outputs": [],
   "source": [
    "df = pd.read_csv('./data/nomad_seawifs_v2.a2_2008200.txt', names=columns, skiprows=107)"
   ]
  },
  {
   "cell_type": "code",
   "execution_count": 5,
   "metadata": {},
   "outputs": [
    {
     "name": "stdout",
     "output_type": "stream",
     "text": [
      "<class 'pandas.core.frame.DataFrame'>\n",
      "RangeIndex: 496 entries, 0 to 495\n",
      "Columns: 243 entries, year to va\n",
      "dtypes: float64(226), int64(15), object(2)\n",
      "memory usage: 941.7+ KB\n"
     ]
    }
   ],
   "source": [
    "df.info()"
   ]
  },
  {
   "cell_type": "code",
   "execution_count": 6,
   "metadata": {},
   "outputs": [],
   "source": [
    "df_rc = pd.read_csv('./data/Rayleigh&Fresnel_corrected_Rrc.txt', sep='\\t')"
   ]
  },
  {
   "cell_type": "code",
   "execution_count": 7,
   "metadata": {},
   "outputs": [
    {
     "data": {
      "text/html": [
       "<div>\n",
       "<style scoped>\n",
       "    .dataframe tbody tr th:only-of-type {\n",
       "        vertical-align: middle;\n",
       "    }\n",
       "\n",
       "    .dataframe tbody tr th {\n",
       "        vertical-align: top;\n",
       "    }\n",
       "\n",
       "    .dataframe thead th {\n",
       "        text-align: right;\n",
       "    }\n",
       "</style>\n",
       "<table border=\"1\" class=\"dataframe\">\n",
       "  <thead>\n",
       "    <tr style=\"text-align: right;\">\n",
       "      <th></th>\n",
       "      <th>filename</th>\n",
       "      <th>lat</th>\n",
       "      <th>lon</th>\n",
       "      <th>Rrs_412</th>\n",
       "      <th>Rrs_443</th>\n",
       "      <th>Rrs_490</th>\n",
       "      <th>Rrs_510</th>\n",
       "      <th>Rrs_555</th>\n",
       "      <th>Rrs_670</th>\n",
       "    </tr>\n",
       "  </thead>\n",
       "  <tbody>\n",
       "    <tr>\n",
       "      <th>0</th>\n",
       "      <td>S1997284110316.L2_MLAC.hdf</td>\n",
       "      <td>39.2900</td>\n",
       "      <td>25.1100</td>\n",
       "      <td>0.012088</td>\n",
       "      <td>0.012417</td>\n",
       "      <td>0.011739</td>\n",
       "      <td>0.010579</td>\n",
       "      <td>0.009110</td>\n",
       "      <td>0.006655</td>\n",
       "    </tr>\n",
       "    <tr>\n",
       "      <th>1</th>\n",
       "      <td>S2000053153433.L2_MLAC.hdf</td>\n",
       "      <td>-61.4500</td>\n",
       "      <td>-62.2990</td>\n",
       "      <td>0.010525</td>\n",
       "      <td>0.010636</td>\n",
       "      <td>0.009614</td>\n",
       "      <td>0.007913</td>\n",
       "      <td>0.006224</td>\n",
       "      <td>0.004794</td>\n",
       "    </tr>\n",
       "    <tr>\n",
       "      <th>2</th>\n",
       "      <td>S2001050135427.L2_MLAC.hdf</td>\n",
       "      <td>-61.2900</td>\n",
       "      <td>-56.2900</td>\n",
       "      <td>0.004443</td>\n",
       "      <td>0.004387</td>\n",
       "      <td>0.004240</td>\n",
       "      <td>0.003686</td>\n",
       "      <td>0.002646</td>\n",
       "      <td>0.001177</td>\n",
       "    </tr>\n",
       "    <tr>\n",
       "      <th>3</th>\n",
       "      <td>S2002022133012.L2_MLAC.hdf</td>\n",
       "      <td>-60.9990</td>\n",
       "      <td>-56.4980</td>\n",
       "      <td>0.005869</td>\n",
       "      <td>0.005866</td>\n",
       "      <td>0.005535</td>\n",
       "      <td>0.004643</td>\n",
       "      <td>0.003326</td>\n",
       "      <td>0.001747</td>\n",
       "    </tr>\n",
       "    <tr>\n",
       "      <th>4</th>\n",
       "      <td>S1997270134451.L2_MLAC.hdf</td>\n",
       "      <td>24.1392</td>\n",
       "      <td>-20.9995</td>\n",
       "      <td>0.009464</td>\n",
       "      <td>0.008968</td>\n",
       "      <td>0.007719</td>\n",
       "      <td>0.005974</td>\n",
       "      <td>0.004161</td>\n",
       "      <td>0.002517</td>\n",
       "    </tr>\n",
       "  </tbody>\n",
       "</table>\n",
       "</div>"
      ],
      "text/plain": [
       "                     filename      lat      lon   Rrs_412   Rrs_443   Rrs_490  \\\n",
       "0  S1997284110316.L2_MLAC.hdf  39.2900  25.1100  0.012088  0.012417  0.011739   \n",
       "1  S2000053153433.L2_MLAC.hdf -61.4500 -62.2990  0.010525  0.010636  0.009614   \n",
       "2  S2001050135427.L2_MLAC.hdf -61.2900 -56.2900  0.004443  0.004387  0.004240   \n",
       "3  S2002022133012.L2_MLAC.hdf -60.9990 -56.4980  0.005869  0.005866  0.005535   \n",
       "4  S1997270134451.L2_MLAC.hdf  24.1392 -20.9995  0.009464  0.008968  0.007719   \n",
       "\n",
       "    Rrs_510   Rrs_555   Rrs_670  \n",
       "0  0.010579  0.009110  0.006655  \n",
       "1  0.007913  0.006224  0.004794  \n",
       "2  0.003686  0.002646  0.001177  \n",
       "3  0.004643  0.003326  0.001747  \n",
       "4  0.005974  0.004161  0.002517  "
      ]
     },
     "execution_count": 7,
     "metadata": {},
     "output_type": "execute_result"
    }
   ],
   "source": [
    "df_rc.head()"
   ]
  },
  {
   "cell_type": "code",
   "execution_count": 8,
   "metadata": {},
   "outputs": [],
   "source": [
    "df_rc['filename'] = df_rc.filename.str.strip('.hdf')"
   ]
  },
  {
   "cell_type": "code",
   "execution_count": 9,
   "metadata": {},
   "outputs": [],
   "source": [
    "# checking to see if both datasets are congruent\n",
    "\n",
    "sat_files = df.sat_file.tolist()\n",
    "lat1 = df.lat.tolist()\n",
    "lon1 = df.lon.tolist()\n",
    "\n",
    "filenames = df_rc.filename.tolist()\n",
    "lat2 = df_rc.lat.tolist()\n",
    "lon2 = df_rc.lon.tolist()\n",
    "\n",
    "for i, (s, f, lt1, lt2, ln1, ln2) in enumerate (zip(sat_files, filenames, lat1,\n",
    "                                                    lat2, lon1, lon2)):\n",
    "    if s != f:\n",
    "        print(f'fname#{i}: {s}<->{f}')\n",
    "    if lt1 != lt2:\n",
    "        print(f'lat#{i}: {lt1}<->{lt2}')\n",
    "    if ln1 != ln2:\n",
    "        print(f'lon#{i}: {ln1}<->{ln2}')"
   ]
  },
  {
   "cell_type": "code",
   "execution_count": 10,
   "metadata": {},
   "outputs": [],
   "source": [
    "def convert_to_dt(row):\n",
    "    dt_str = f'{row.year}-{row.month}-{row.day} {row.hour}:{row.minute}:{row.second}'\n",
    "    return pd.to_datetime(dt_str, format='%Y-%m-%d %H:%M:%S')\n",
    "\n",
    "# consolidate date and time columns into single datetime type column\n",
    "df.insert(0, 'datetime', df.apply(convert_to_dt, axis=1))\n",
    "df.drop(['year', 'month', 'day', 'hour', 'minute', 'second'], axis=1, inplace=True)"
   ]
  },
  {
   "cell_type": "code",
   "execution_count": 11,
   "metadata": {},
   "outputs": [],
   "source": [
    "df_rc.rename(columns=dict(Rrs_412='sat_rrs412_rc', Rrs_443='sat_rrs443_rc',\n",
    "                         Rrs_490='sat_rrs490_rc', Rrs_510='sat_rrs510_rc',\n",
    "                         Rrs_555='sat_rrs555_rc', Rrs_670='sat_rrs670_rc'),\n",
    "           inplace=True)"
   ]
  },
  {
   "cell_type": "code",
   "execution_count": 12,
   "metadata": {},
   "outputs": [],
   "source": [
    "df_2 = pd.merge(df, df_rc, left_index=True, right_index=True)\n",
    "df_2.rename(columns={'lat_x': 'lat', 'lon_x': 'lon'}, inplace=True)\n",
    "df_2.drop(['lat_y', 'lon_y'], axis=1, inplace=True)"
   ]
  },
  {
   "cell_type": "code",
   "execution_count": 13,
   "metadata": {},
   "outputs": [],
   "source": [
    "df.to_pickle('./pickleJar/df_0_NMD_SWF_v2_a2_2008200.pkl')\n",
    "df_rc.to_pickle('./pickleJar/df_0_R&F_Corr.pkl')\n",
    "df_2.to_pickle('./pickleJar/df_1_merged.pkl')"
   ]
  },
  {
   "cell_type": "markdown",
   "metadata": {},
   "source": [
    "#### <u>Subsetting data</u>"
   ]
  },
  {
   "cell_type": "code",
   "execution_count": null,
   "metadata": {},
   "outputs": [],
   "source": [
    "swf_bands = [412, 443, 490, 510, 555, 670]\n",
    "time_loc_cols_extract = ['datetime', 'lat', 'lon']\n",
    "anc_cols_extract = ['oisst', 'wt', 'sal', 'etopo2', 'sola', 'solz']\n",
    "sat_cols_extract = ['sat_rrs%d' %b for b in swf_bands]\\\n",
    "                     + ['sat_lt%d' %b for b in swf_bands]\\\n",
    "                     + ['sat_rhot%d' %b for b in swf_bands]\\\n",
    "                     + ['sat_rrs%d_rc' %b for b in swf_bands]"
   ]
  },
  {
   "cell_type": "code",
   "execution_count": 30,
   "metadata": {},
   "outputs": [],
   "source": [
    "ad_cols_extract = df_2.filter(regex='ad[0-9]+').columns.tolist()\n",
    "ag_cols_extract = df_2.filter(regex='ag[0-9]+').columns.tolist()\n",
    "ap_cols_extract = df_2.filter(regex='ap[0-9]+').columns.tolist()\n",
    "bb_cols_extract = df_2.filter(regex='bb[0-9]+').columns.tolist()\n",
    "chl_cols_extract = ['chl', 'chl_a']"
   ]
  },
  {
   "cell_type": "code",
   "execution_count": 93,
   "metadata": {},
   "outputs": [],
   "source": [
    "df_anc = df_2[time_loc_cols_extract + anc_cols_extract]\n",
    "df_sat = df_2[time_loc_cols_extract + sat_cols_extract]\n",
    "df_ad = df_2[time_loc_cols_extract + ad_cols_extract]\n",
    "df_ag = df_2[time_loc_cols_extract + ag_cols_extract]\n",
    "df_ap = df_2[time_loc_cols_extract + ap_cols_extract]\n",
    "df_bb = df_2[time_loc_cols_extract + bb_cols_extract]\n",
    "df_chl = df_2[time_loc_cols_extract + chl_cols_extract]"
   ]
  },
  {
   "cell_type": "code",
   "execution_count": 85,
   "metadata": {},
   "outputs": [],
   "source": [
    "pkldir = './pickleJar/'\n",
    "df_anc.to_pickle(pkldir + 'df_2_ancillary.pkl')\n",
    "df_sat.to_pickle(pkldir + 'df_2_satellite.pkl')\n",
    "df_ad.to_pickle(pkldir + 'df_2_ad.pkl')\n",
    "df_ag.to_pickle(pkldir + 'df_2_ag.pkl')\n",
    "df_ap.to_pickle(pkldir + 'df_2_ap.pkl')\n",
    "df_bb.to_pickle(pkldir + 'df_2_bb.pkl')"
   ]
  },
  {
   "cell_type": "markdown",
   "metadata": {},
   "source": [
    "#### <u>Creating distinction between hplc and fluo chl</u>"
   ]
  },
  {
   "cell_type": "code",
   "execution_count": 94,
   "metadata": {},
   "outputs": [],
   "source": [
    "df_chl.replace(to_replace=-999, value=np.NaN, inplace=True)"
   ]
  },
  {
   "cell_type": "code",
   "execution_count": 95,
   "metadata": {},
   "outputs": [],
   "source": [
    "df_chl.rename(columns={'chl': 'chl_fluo', 'chl_a': 'chl_hplc'}, inplace=True)"
   ]
  },
  {
   "cell_type": "code",
   "execution_count": 96,
   "metadata": {},
   "outputs": [],
   "source": [
    "def get_chl(row):\n",
    "    if row.chl_hplc == np.NaN:\n",
    "        return row.chl_fluo\n",
    "    return row.chl_hplc\n",
    "\n",
    "df_chl['chl'] = df_chl.apply(get_chl, axis=1)"
   ]
  },
  {
   "cell_type": "code",
   "execution_count": 107,
   "metadata": {},
   "outputs": [],
   "source": [
    "df_chl['is_hplc'] = ~df_chl.chl_hplc.isnull()\n",
    "\n",
    "df_chl.to_pickle(pkldir + 'df_2_chl.pkl')"
   ]
  },
  {
   "cell_type": "markdown",
   "metadata": {},
   "source": [
    "#### <u> Creating phytoplankton absorption DataFrame</u>"
   ]
  },
  {
   "cell_type": "code",
   "execution_count": 42,
   "metadata": {},
   "outputs": [],
   "source": [
    "a_bb_bands = list(df_ap.columns.str.extract('([0-9]+)').dropna().values.squeeze())"
   ]
  },
  {
   "cell_type": "code",
   "execution_count": 55,
   "metadata": {},
   "outputs": [],
   "source": [
    "df_aphy = pd.DataFrame(columns=time_loc_cols_extract + ['aphy%s' % b for b in a_bb_bands])\n",
    "df_aphy[time_loc_cols_extract] = df_2[time_loc_cols_extract]"
   ]
  },
  {
   "cell_type": "code",
   "execution_count": 56,
   "metadata": {},
   "outputs": [],
   "source": [
    "for b in a_bb_bands:\n",
    "    df_aphy['aphy%s' %b] = df_ap['ap%s' % b] - df_ad['ad%s' %b]"
   ]
  },
  {
   "cell_type": "code",
   "execution_count": 108,
   "metadata": {},
   "outputs": [
    {
     "data": {
      "text/html": [
       "<div>\n",
       "<style scoped>\n",
       "    .dataframe tbody tr th:only-of-type {\n",
       "        vertical-align: middle;\n",
       "    }\n",
       "\n",
       "    .dataframe tbody tr th {\n",
       "        vertical-align: top;\n",
       "    }\n",
       "\n",
       "    .dataframe thead th {\n",
       "        text-align: right;\n",
       "    }\n",
       "</style>\n",
       "<table border=\"1\" class=\"dataframe\">\n",
       "  <thead>\n",
       "    <tr style=\"text-align: right;\">\n",
       "      <th></th>\n",
       "      <th>0</th>\n",
       "      <th>1</th>\n",
       "      <th>2</th>\n",
       "      <th>3</th>\n",
       "      <th>4</th>\n",
       "    </tr>\n",
       "  </thead>\n",
       "  <tbody>\n",
       "    <tr>\n",
       "      <th>datetime</th>\n",
       "      <td>1997-10-11 09:32:00</td>\n",
       "      <td>2000-02-22 17:00:00</td>\n",
       "      <td>2001-02-19 16:10:00</td>\n",
       "      <td>2002-01-22 13:45:00</td>\n",
       "      <td>1997-09-27 11:29:00</td>\n",
       "    </tr>\n",
       "    <tr>\n",
       "      <th>lat</th>\n",
       "      <td>39.29</td>\n",
       "      <td>-61.45</td>\n",
       "      <td>-61.29</td>\n",
       "      <td>-60.999</td>\n",
       "      <td>24.1392</td>\n",
       "    </tr>\n",
       "    <tr>\n",
       "      <th>lon</th>\n",
       "      <td>25.11</td>\n",
       "      <td>-62.299</td>\n",
       "      <td>-56.29</td>\n",
       "      <td>-56.498</td>\n",
       "      <td>-20.9995</td>\n",
       "    </tr>\n",
       "    <tr>\n",
       "      <th>aphy405</th>\n",
       "      <td>0</td>\n",
       "      <td>0</td>\n",
       "      <td>0.02149</td>\n",
       "      <td>0.01693</td>\n",
       "      <td>0</td>\n",
       "    </tr>\n",
       "    <tr>\n",
       "      <th>aphy411</th>\n",
       "      <td>0</td>\n",
       "      <td>0</td>\n",
       "      <td>0.0241</td>\n",
       "      <td>0.01886</td>\n",
       "      <td>0</td>\n",
       "    </tr>\n",
       "    <tr>\n",
       "      <th>aphy443</th>\n",
       "      <td>0</td>\n",
       "      <td>0</td>\n",
       "      <td>0.03078</td>\n",
       "      <td>0.02283</td>\n",
       "      <td>0</td>\n",
       "    </tr>\n",
       "    <tr>\n",
       "      <th>aphy455</th>\n",
       "      <td>0</td>\n",
       "      <td>0</td>\n",
       "      <td>0.02838</td>\n",
       "      <td>0.02071</td>\n",
       "      <td>0</td>\n",
       "    </tr>\n",
       "    <tr>\n",
       "      <th>aphy465</th>\n",
       "      <td>0</td>\n",
       "      <td>0</td>\n",
       "      <td>0.02765</td>\n",
       "      <td>0.01999</td>\n",
       "      <td>0</td>\n",
       "    </tr>\n",
       "    <tr>\n",
       "      <th>aphy489</th>\n",
       "      <td>0</td>\n",
       "      <td>0</td>\n",
       "      <td>0.02057</td>\n",
       "      <td>0.01464</td>\n",
       "      <td>0</td>\n",
       "    </tr>\n",
       "    <tr>\n",
       "      <th>aphy510</th>\n",
       "      <td>0</td>\n",
       "      <td>0</td>\n",
       "      <td>0.01261</td>\n",
       "      <td>0.00937</td>\n",
       "      <td>0</td>\n",
       "    </tr>\n",
       "    <tr>\n",
       "      <th>aphy520</th>\n",
       "      <td>0</td>\n",
       "      <td>0</td>\n",
       "      <td>0.00996</td>\n",
       "      <td>0.00756</td>\n",
       "      <td>0</td>\n",
       "    </tr>\n",
       "    <tr>\n",
       "      <th>aphy530</th>\n",
       "      <td>0</td>\n",
       "      <td>0</td>\n",
       "      <td>0.00776</td>\n",
       "      <td>0.006</td>\n",
       "      <td>0</td>\n",
       "    </tr>\n",
       "    <tr>\n",
       "      <th>aphy550</th>\n",
       "      <td>0</td>\n",
       "      <td>0</td>\n",
       "      <td>0.00448</td>\n",
       "      <td>0.0036</td>\n",
       "      <td>0</td>\n",
       "    </tr>\n",
       "    <tr>\n",
       "      <th>aphy555</th>\n",
       "      <td>0</td>\n",
       "      <td>0</td>\n",
       "      <td>0.00385</td>\n",
       "      <td>0.0031</td>\n",
       "      <td>0</td>\n",
       "    </tr>\n",
       "    <tr>\n",
       "      <th>aphy560</th>\n",
       "      <td>0</td>\n",
       "      <td>0</td>\n",
       "      <td>0.0034</td>\n",
       "      <td>0.00275</td>\n",
       "      <td>0</td>\n",
       "    </tr>\n",
       "    <tr>\n",
       "      <th>aphy565</th>\n",
       "      <td>0</td>\n",
       "      <td>0</td>\n",
       "      <td>0.0031</td>\n",
       "      <td>0.00252</td>\n",
       "      <td>0</td>\n",
       "    </tr>\n",
       "    <tr>\n",
       "      <th>aphy570</th>\n",
       "      <td>0</td>\n",
       "      <td>0</td>\n",
       "      <td>0.00291</td>\n",
       "      <td>0.00239</td>\n",
       "      <td>0</td>\n",
       "    </tr>\n",
       "    <tr>\n",
       "      <th>aphy590</th>\n",
       "      <td>0</td>\n",
       "      <td>0</td>\n",
       "      <td>0.00324</td>\n",
       "      <td>0.00282</td>\n",
       "      <td>0</td>\n",
       "    </tr>\n",
       "    <tr>\n",
       "      <th>aphy619</th>\n",
       "      <td>0</td>\n",
       "      <td>0</td>\n",
       "      <td>0.00328</td>\n",
       "      <td>0.00301</td>\n",
       "      <td>0</td>\n",
       "    </tr>\n",
       "    <tr>\n",
       "      <th>aphy625</th>\n",
       "      <td>0</td>\n",
       "      <td>0</td>\n",
       "      <td>0.00348</td>\n",
       "      <td>0.00319</td>\n",
       "      <td>0</td>\n",
       "    </tr>\n",
       "    <tr>\n",
       "      <th>aphy665</th>\n",
       "      <td>0</td>\n",
       "      <td>0</td>\n",
       "      <td>0.00774</td>\n",
       "      <td>0.00723</td>\n",
       "      <td>0</td>\n",
       "    </tr>\n",
       "    <tr>\n",
       "      <th>aphy670</th>\n",
       "      <td>0</td>\n",
       "      <td>0</td>\n",
       "      <td>0.0104</td>\n",
       "      <td>0.00935</td>\n",
       "      <td>0</td>\n",
       "    </tr>\n",
       "    <tr>\n",
       "      <th>aphy683</th>\n",
       "      <td>0</td>\n",
       "      <td>0</td>\n",
       "      <td>0.00949</td>\n",
       "      <td>0.00798</td>\n",
       "      <td>0</td>\n",
       "    </tr>\n",
       "  </tbody>\n",
       "</table>\n",
       "</div>"
      ],
      "text/plain": [
       "                            0                    1                    2  \\\n",
       "datetime  1997-10-11 09:32:00  2000-02-22 17:00:00  2001-02-19 16:10:00   \n",
       "lat                     39.29               -61.45               -61.29   \n",
       "lon                     25.11              -62.299               -56.29   \n",
       "aphy405                     0                    0              0.02149   \n",
       "aphy411                     0                    0               0.0241   \n",
       "aphy443                     0                    0              0.03078   \n",
       "aphy455                     0                    0              0.02838   \n",
       "aphy465                     0                    0              0.02765   \n",
       "aphy489                     0                    0              0.02057   \n",
       "aphy510                     0                    0              0.01261   \n",
       "aphy520                     0                    0              0.00996   \n",
       "aphy530                     0                    0              0.00776   \n",
       "aphy550                     0                    0              0.00448   \n",
       "aphy555                     0                    0              0.00385   \n",
       "aphy560                     0                    0               0.0034   \n",
       "aphy565                     0                    0               0.0031   \n",
       "aphy570                     0                    0              0.00291   \n",
       "aphy590                     0                    0              0.00324   \n",
       "aphy619                     0                    0              0.00328   \n",
       "aphy625                     0                    0              0.00348   \n",
       "aphy665                     0                    0              0.00774   \n",
       "aphy670                     0                    0               0.0104   \n",
       "aphy683                     0                    0              0.00949   \n",
       "\n",
       "                            3                    4  \n",
       "datetime  2002-01-22 13:45:00  1997-09-27 11:29:00  \n",
       "lat                   -60.999              24.1392  \n",
       "lon                   -56.498             -20.9995  \n",
       "aphy405               0.01693                    0  \n",
       "aphy411               0.01886                    0  \n",
       "aphy443               0.02283                    0  \n",
       "aphy455               0.02071                    0  \n",
       "aphy465               0.01999                    0  \n",
       "aphy489               0.01464                    0  \n",
       "aphy510               0.00937                    0  \n",
       "aphy520               0.00756                    0  \n",
       "aphy530                 0.006                    0  \n",
       "aphy550                0.0036                    0  \n",
       "aphy555                0.0031                    0  \n",
       "aphy560               0.00275                    0  \n",
       "aphy565               0.00252                    0  \n",
       "aphy570               0.00239                    0  \n",
       "aphy590               0.00282                    0  \n",
       "aphy619               0.00301                    0  \n",
       "aphy625               0.00319                    0  \n",
       "aphy665               0.00723                    0  \n",
       "aphy670               0.00935                    0  \n",
       "aphy683               0.00798                    0  "
      ]
     },
     "execution_count": 108,
     "metadata": {},
     "output_type": "execute_result"
    }
   ],
   "source": [
    "df_aphy.head().T"
   ]
  },
  {
   "cell_type": "code",
   "execution_count": 109,
   "metadata": {},
   "outputs": [],
   "source": [
    "df_aphy.to_pickle(pkldir + 'df_2_aphy.pkl')"
   ]
  },
  {
   "cell_type": "markdown",
   "metadata": {},
   "source": [
    "#### <u>Creating Dataset for OO Conference 2018</u>\n",
    "\n",
    "This data will used rayleigh Lt and "
   ]
  },
  {
   "cell_type": "code",
   "execution_count": null,
   "metadata": {},
   "outputs": [],
   "source": [
    "pca_spnorm = PCA()\n",
    "pca_spnorm_data = pca_spnorm.fit_transform(df_spnorm[rrs_cols].as_matrix())\n",
    "PlotPCARes(pca_spnorm, threshold=0.99, alpha=0.9, num_pca_disp=pca_spnorm_data.shape[1])\n",
    "PlotCrossCorr(pca_spnorm_data, df_spnorm)"
   ]
  }
 ],
 "metadata": {
  "kernelspec": {
   "display_name": "Python [conda env:machine_learning]",
   "language": "python",
   "name": "conda-env-machine_learning-py"
  },
  "language_info": {
   "codemirror_mode": {
    "name": "ipython",
    "version": 3
   },
   "file_extension": ".py",
   "mimetype": "text/x-python",
   "name": "python",
   "nbconvert_exporter": "python",
   "pygments_lexer": "ipython3",
   "version": "3.6.5"
  }
 },
 "nbformat": 4,
 "nbformat_minor": 2
}
