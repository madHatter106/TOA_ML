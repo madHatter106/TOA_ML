{
 "cells": [
  {
   "cell_type": "code",
   "execution_count": 18,
   "metadata": {},
   "outputs": [],
   "source": [
    "from IPython.core.display import HTML, display\n",
    "\n",
    "import pandas as pd\n",
    "import numpy as np\n",
    "from sklearn.model_selection import train_test_split\n",
    "from sklearn.metrics import r2_score, mean_absolute_error\n",
    "import matplotlib.pyplot as pl\n",
    "from matplotlib import rcParams\n",
    "\n",
    "from keras import models\n",
    "from keras import layers\n",
    "\n",
    "from tqdm import tnrange, tqdm_notebook"
   ]
  },
  {
   "cell_type": "code",
   "execution_count": 2,
   "metadata": {},
   "outputs": [],
   "source": [
    "% matplotlib inline\n",
    "rcParams['axes.labelsize'] = 16\n",
    "rcParams['xtick.labelsize'] = 16\n",
    "rcParams['ytick.labelsize'] = 16\n",
    "rcParams['font.size'] = 16\n",
    "rcParams['axes.titlesize'] = 18\n",
    "rcParams['figure.titlesize'] = 20"
   ]
  },
  {
   "cell_type": "code",
   "execution_count": 3,
   "metadata": {},
   "outputs": [],
   "source": [
    "df_chl = pd.read_pickle('./pickleJar/OperationalDataSets/df_rs_6_FullSet_noInteractions.pkl')"
   ]
  },
  {
   "cell_type": "code",
   "execution_count": 4,
   "metadata": {},
   "outputs": [
    {
     "data": {
      "text/html": [
       "<div>\n",
       "<style scoped>\n",
       "    .dataframe tbody tr th:only-of-type {\n",
       "        vertical-align: middle;\n",
       "    }\n",
       "\n",
       "    .dataframe tbody tr th {\n",
       "        vertical-align: top;\n",
       "    }\n",
       "\n",
       "    .dataframe thead th {\n",
       "        text-align: right;\n",
       "    }\n",
       "</style>\n",
       "<table border=\"1\" class=\"dataframe\">\n",
       "  <thead>\n",
       "    <tr style=\"text-align: right;\">\n",
       "      <th></th>\n",
       "      <th>0</th>\n",
       "      <th>1</th>\n",
       "      <th>2</th>\n",
       "      <th>3</th>\n",
       "      <th>4</th>\n",
       "    </tr>\n",
       "  </thead>\n",
       "  <tbody>\n",
       "    <tr>\n",
       "      <th>Biome</th>\n",
       "      <td>Westerlies</td>\n",
       "      <td>Polar</td>\n",
       "      <td>Polar</td>\n",
       "      <td>Polar</td>\n",
       "      <td>Trades</td>\n",
       "    </tr>\n",
       "    <tr>\n",
       "      <th>BiomCat</th>\n",
       "      <td>3</td>\n",
       "      <td>1</td>\n",
       "      <td>1</td>\n",
       "      <td>1</td>\n",
       "      <td>2</td>\n",
       "    </tr>\n",
       "    <tr>\n",
       "      <th>Province</th>\n",
       "      <td>Mediterranean Sea, Black Sea Province</td>\n",
       "      <td>Antarctic Province</td>\n",
       "      <td>Austral Polar Province</td>\n",
       "      <td>Austral Polar Province</td>\n",
       "      <td>N. Atlantic Tropical Gyral Province (Trpg)</td>\n",
       "    </tr>\n",
       "    <tr>\n",
       "      <th>ProvCode</th>\n",
       "      <td>MEDI</td>\n",
       "      <td>ANTA</td>\n",
       "      <td>APLR</td>\n",
       "      <td>APLR</td>\n",
       "      <td>NATR</td>\n",
       "    </tr>\n",
       "    <tr>\n",
       "      <th>Coastal</th>\n",
       "      <td>0</td>\n",
       "      <td>0</td>\n",
       "      <td>0</td>\n",
       "      <td>0</td>\n",
       "      <td>0</td>\n",
       "    </tr>\n",
       "    <tr>\n",
       "      <th>ProvCat</th>\n",
       "      <td>42</td>\n",
       "      <td>22</td>\n",
       "      <td>25</td>\n",
       "      <td>25</td>\n",
       "      <td>33</td>\n",
       "    </tr>\n",
       "    <tr>\n",
       "      <th>sin_doy</th>\n",
       "      <td>-0.984474</td>\n",
       "      <td>0.790946</td>\n",
       "      <td>0.758306</td>\n",
       "      <td>0.369725</td>\n",
       "      <td>-0.997917</td>\n",
       "    </tr>\n",
       "    <tr>\n",
       "      <th>cos_doy</th>\n",
       "      <td>0.175531</td>\n",
       "      <td>0.611886</td>\n",
       "      <td>0.651899</td>\n",
       "      <td>0.929141</td>\n",
       "      <td>-0.0645084</td>\n",
       "    </tr>\n",
       "    <tr>\n",
       "      <th>sin_minofday</th>\n",
       "      <td>0.601815</td>\n",
       "      <td>-0.965926</td>\n",
       "      <td>-0.887011</td>\n",
       "      <td>-0.442289</td>\n",
       "      <td>0.134851</td>\n",
       "    </tr>\n",
       "    <tr>\n",
       "      <th>cos_minofday</th>\n",
       "      <td>-0.798636</td>\n",
       "      <td>-0.258819</td>\n",
       "      <td>-0.461749</td>\n",
       "      <td>-0.896873</td>\n",
       "      <td>-0.990866</td>\n",
       "    </tr>\n",
       "    <tr>\n",
       "      <th>x</th>\n",
       "      <td>0.700808</td>\n",
       "      <td>0.222167</td>\n",
       "      <td>0.266604</td>\n",
       "      <td>0.267607</td>\n",
       "      <td>0.851946</td>\n",
       "    </tr>\n",
       "    <tr>\n",
       "      <th>y</th>\n",
       "      <td>0.328432</td>\n",
       "      <td>-0.423148</td>\n",
       "      <td>-0.399605</td>\n",
       "      <td>-0.404279</td>\n",
       "      <td>-0.327023</td>\n",
       "    </tr>\n",
       "    <tr>\n",
       "      <th>z</th>\n",
       "      <td>0.633246</td>\n",
       "      <td>-0.8784</td>\n",
       "      <td>-0.877062</td>\n",
       "      <td>-0.874611</td>\n",
       "      <td>0.408955</td>\n",
       "    </tr>\n",
       "    <tr>\n",
       "      <th>log10_etopo2_s</th>\n",
       "      <td>0.334586</td>\n",
       "      <td>0.962905</td>\n",
       "      <td>0.230894</td>\n",
       "      <td>0.814552</td>\n",
       "      <td>1.02696</td>\n",
       "    </tr>\n",
       "    <tr>\n",
       "      <th>oisst_s</th>\n",
       "      <td>-0.00266548</td>\n",
       "      <td>-1.51577</td>\n",
       "      <td>-1.67215</td>\n",
       "      <td>-1.58241</td>\n",
       "      <td>0.450466</td>\n",
       "    </tr>\n",
       "    <tr>\n",
       "      <th>solz_s</th>\n",
       "      <td>0.747153</td>\n",
       "      <td>0.861048</td>\n",
       "      <td>0.929385</td>\n",
       "      <td>0.61959</td>\n",
       "      <td>-0.1959</td>\n",
       "    </tr>\n",
       "    <tr>\n",
       "      <th>PC1_s</th>\n",
       "      <td>0.450843</td>\n",
       "      <td>0.934552</td>\n",
       "      <td>0.982326</td>\n",
       "      <td>1.06837</td>\n",
       "      <td>1.56544</td>\n",
       "    </tr>\n",
       "    <tr>\n",
       "      <th>PC2_s</th>\n",
       "      <td>-0.528003</td>\n",
       "      <td>-0.419699</td>\n",
       "      <td>0.564757</td>\n",
       "      <td>0.364925</td>\n",
       "      <td>0.0350968</td>\n",
       "    </tr>\n",
       "    <tr>\n",
       "      <th>PC3_s</th>\n",
       "      <td>-0.594129</td>\n",
       "      <td>-0.646996</td>\n",
       "      <td>0.430704</td>\n",
       "      <td>0.0828478</td>\n",
       "      <td>0.508983</td>\n",
       "    </tr>\n",
       "    <tr>\n",
       "      <th>PC4_s</th>\n",
       "      <td>0.113778</td>\n",
       "      <td>-0.566777</td>\n",
       "      <td>1.39032</td>\n",
       "      <td>0.59479</td>\n",
       "      <td>-0.0243101</td>\n",
       "    </tr>\n",
       "    <tr>\n",
       "      <th>PC5_s</th>\n",
       "      <td>-0.896284</td>\n",
       "      <td>-1.10572</td>\n",
       "      <td>0.479462</td>\n",
       "      <td>-0.184703</td>\n",
       "      <td>-0.321996</td>\n",
       "    </tr>\n",
       "    <tr>\n",
       "      <th>PC6_s</th>\n",
       "      <td>0.453029</td>\n",
       "      <td>0.394948</td>\n",
       "      <td>1.33098</td>\n",
       "      <td>0.936472</td>\n",
       "      <td>-1.19879</td>\n",
       "    </tr>\n",
       "    <tr>\n",
       "      <th>log10_chl</th>\n",
       "      <td>-1.04096</td>\n",
       "      <td>-0.928118</td>\n",
       "      <td>NaN</td>\n",
       "      <td>-0.211832</td>\n",
       "      <td>-0.801343</td>\n",
       "    </tr>\n",
       "  </tbody>\n",
       "</table>\n",
       "</div>"
      ],
      "text/plain": [
       "                                                    0                   1  \\\n",
       "Biome                                      Westerlies               Polar   \n",
       "BiomCat                                             3                   1   \n",
       "Province        Mediterranean Sea, Black Sea Province  Antarctic Province   \n",
       "ProvCode                                         MEDI                ANTA   \n",
       "Coastal                                             0                   0   \n",
       "ProvCat                                            42                  22   \n",
       "sin_doy                                     -0.984474            0.790946   \n",
       "cos_doy                                      0.175531            0.611886   \n",
       "sin_minofday                                 0.601815           -0.965926   \n",
       "cos_minofday                                -0.798636           -0.258819   \n",
       "x                                            0.700808            0.222167   \n",
       "y                                            0.328432           -0.423148   \n",
       "z                                            0.633246             -0.8784   \n",
       "log10_etopo2_s                               0.334586            0.962905   \n",
       "oisst_s                                   -0.00266548            -1.51577   \n",
       "solz_s                                       0.747153            0.861048   \n",
       "PC1_s                                        0.450843            0.934552   \n",
       "PC2_s                                       -0.528003           -0.419699   \n",
       "PC3_s                                       -0.594129           -0.646996   \n",
       "PC4_s                                        0.113778           -0.566777   \n",
       "PC5_s                                       -0.896284            -1.10572   \n",
       "PC6_s                                        0.453029            0.394948   \n",
       "log10_chl                                    -1.04096           -0.928118   \n",
       "\n",
       "                                     2                       3  \\\n",
       "Biome                            Polar                   Polar   \n",
       "BiomCat                              1                       1   \n",
       "Province        Austral Polar Province  Austral Polar Province   \n",
       "ProvCode                          APLR                    APLR   \n",
       "Coastal                              0                       0   \n",
       "ProvCat                             25                      25   \n",
       "sin_doy                       0.758306                0.369725   \n",
       "cos_doy                       0.651899                0.929141   \n",
       "sin_minofday                 -0.887011               -0.442289   \n",
       "cos_minofday                 -0.461749               -0.896873   \n",
       "x                             0.266604                0.267607   \n",
       "y                            -0.399605               -0.404279   \n",
       "z                            -0.877062               -0.874611   \n",
       "log10_etopo2_s                0.230894                0.814552   \n",
       "oisst_s                       -1.67215                -1.58241   \n",
       "solz_s                        0.929385                 0.61959   \n",
       "PC1_s                         0.982326                 1.06837   \n",
       "PC2_s                         0.564757                0.364925   \n",
       "PC3_s                         0.430704               0.0828478   \n",
       "PC4_s                          1.39032                 0.59479   \n",
       "PC5_s                         0.479462               -0.184703   \n",
       "PC6_s                          1.33098                0.936472   \n",
       "log10_chl                          NaN               -0.211832   \n",
       "\n",
       "                                                         4  \n",
       "Biome                                               Trades  \n",
       "BiomCat                                                  2  \n",
       "Province        N. Atlantic Tropical Gyral Province (Trpg)  \n",
       "ProvCode                                              NATR  \n",
       "Coastal                                                  0  \n",
       "ProvCat                                                 33  \n",
       "sin_doy                                          -0.997917  \n",
       "cos_doy                                         -0.0645084  \n",
       "sin_minofday                                      0.134851  \n",
       "cos_minofday                                     -0.990866  \n",
       "x                                                 0.851946  \n",
       "y                                                -0.327023  \n",
       "z                                                 0.408955  \n",
       "log10_etopo2_s                                     1.02696  \n",
       "oisst_s                                           0.450466  \n",
       "solz_s                                             -0.1959  \n",
       "PC1_s                                              1.56544  \n",
       "PC2_s                                            0.0350968  \n",
       "PC3_s                                             0.508983  \n",
       "PC4_s                                           -0.0243101  \n",
       "PC5_s                                            -0.321996  \n",
       "PC6_s                                             -1.19879  \n",
       "log10_chl                                        -0.801343  "
      ]
     },
     "execution_count": 4,
     "metadata": {},
     "output_type": "execute_result"
    }
   ],
   "source": [
    "df_chl.head().T"
   ]
  },
  {
   "cell_type": "code",
   "execution_count": 5,
   "metadata": {},
   "outputs": [],
   "source": [
    "X = df_chl.dropna().loc[:, 'sin_doy': 'PC6_s'].values\n",
    "y = df_chl.dropna().log10_chl.values"
   ]
  },
  {
   "cell_type": "code",
   "execution_count": 6,
   "metadata": {},
   "outputs": [],
   "source": [
    "assert X.shape[0] == y.size"
   ]
  },
  {
   "cell_type": "code",
   "execution_count": 7,
   "metadata": {},
   "outputs": [],
   "source": [
    "X_train, X_test, y_train, y_test = train_test_split(X, y, test_size=0.1, random_state=42)"
   ]
  },
  {
   "cell_type": "code",
   "execution_count": 8,
   "metadata": {},
   "outputs": [],
   "source": [
    "def build_model():\n",
    "    model = models.Sequential()\n",
    "    model.add(layers.Dense(64, activation='relu', input_shape=(X_train.shape[1], )))\n",
    "    model.add(layers.Dense(64, activation='relu'))\n",
    "    model.add(layers.Dense(1))\n",
    "    model.compile(optimizer='rmsprop', loss='mse', metrics=['mae'])\n",
    "    return model\n",
    "\n",
    "def smooth(curve, points, factor=0.9):\n",
    "    smoothed_points = []\n",
    "    for point in points:\n",
    "        if smoothed_points:\n",
    "            previous = smoothed_points[-1]\n",
    "            smoothed_points.append(previous * factor + point * (1 - factor))\n",
    "        else:\n",
    "            smoothed_points.append(point)\n",
    "    return smoothed_points"
   ]
  },
  {
   "cell_type": "markdown",
   "metadata": {},
   "source": [
    "Given the small size of the data set, I will use k-fold validation to train the model."
   ]
  },
  {
   "cell_type": "code",
   "execution_count": 9,
   "metadata": {},
   "outputs": [
    {
     "data": {
      "application/vnd.jupyter.widget-view+json": {
       "model_id": "b48addc549e042b9a37c16b05c473ab2",
       "version_major": 2,
       "version_minor": 0
      },
      "text/plain": [
       "HBox(children=(IntProgress(value=0, description='k-fold loop', max=4), HTML(value='')))"
      ]
     },
     "metadata": {},
     "output_type": "display_data"
    },
    {
     "name": "stdout",
     "output_type": "stream",
     "text": [
      "\n"
     ]
    }
   ],
   "source": [
    "k = 4\n",
    "num_val_samples = X_train.shape[0] // k\n",
    "num_epochs = 100\n",
    "all_scores = []\n",
    "for i in tqdm_notebook(range(k), desc='k-fold loop'):\n",
    "    val_beg_idx, val_end_idx = i * num_val_samples, (i + 1) * num_val_samples\n",
    "    X_val = X_train[val_beg_idx: val_end_idx]\n",
    "    y_val = y_train[val_beg_idx: val_end_idx]\n",
    "    X_partial_train = np.concatenate([X_train[:val_beg_idx],X_train[val_end_idx:]],\n",
    "                                    axis=0)\n",
    "    y_partial_train = np.concatenate([y_train[:val_beg_idx], y_train[val_end_idx:]],\n",
    "                                    axis=0)\n",
    "    \n",
    "    model = build_model()\n",
    "    history = model.fit(X_partial_train, y_partial_train, epochs=num_epochs,\n",
    "                        batch_size=1, verbose=0)\n",
    "    val_mse, val_mae= model.evaluate(X_val, y_val, verbose=0)\n",
    "    all_scores.append(val_mae)"
   ]
  },
  {
   "cell_type": "code",
   "execution_count": 10,
   "metadata": {},
   "outputs": [
    {
     "data": {
      "text/plain": [
       "[0.18053601854725887,\n",
       " 0.1513691340622149,\n",
       " 0.15152673313492224,\n",
       " 0.17673421423686178]"
      ]
     },
     "execution_count": 10,
     "metadata": {},
     "output_type": "execute_result"
    }
   ],
   "source": [
    "all_scores"
   ]
  },
  {
   "cell_type": "code",
   "execution_count": 11,
   "metadata": {},
   "outputs": [
    {
     "data": {
      "text/plain": [
       "0.16504152499531444"
      ]
     },
     "execution_count": 11,
     "metadata": {},
     "output_type": "execute_result"
    }
   ],
   "source": [
    "np.mean(all_scores)"
   ]
  },
  {
   "cell_type": "code",
   "execution_count": 12,
   "metadata": {},
   "outputs": [
    {
     "data": {
      "application/vnd.jupyter.widget-view+json": {
       "model_id": "ecd377e3dc51481d8e345543dfdcb9b1",
       "version_major": 2,
       "version_minor": 0
      },
      "text/plain": [
       "HBox(children=(IntProgress(value=0, description='k-fold loop', max=4), HTML(value='')))"
      ]
     },
     "metadata": {},
     "output_type": "display_data"
    },
    {
     "name": "stdout",
     "output_type": "stream",
     "text": [
      "\n"
     ]
    }
   ],
   "source": [
    "k = 4\n",
    "num_val_samples = X_train.shape[0] // k\n",
    "num_epochs = 500\n",
    "all_mae_histories = []\n",
    "for i in tqdm_notebook(range(k), desc='k-fold loop'):\n",
    "    val_beg_idx, val_end_idx = i * num_val_samples, (i + 1) * num_val_samples\n",
    "    X_val = X_train[val_beg_idx: val_end_idx]\n",
    "    y_val = y_train[val_beg_idx: val_end_idx]\n",
    "    X_partial_train = np.concatenate([X_train[:val_beg_idx],X_train[val_end_idx:]],\n",
    "                                    axis=0)\n",
    "    y_partial_train = np.concatenate([y_train[:val_beg_idx], y_train[val_end_idx:]],\n",
    "                                    axis=0)\n",
    "    \n",
    "    model = build_model()\n",
    "    history = model.fit(X_partial_train, y_partial_train, epochs=num_epochs,\n",
    "                        validation_data=(X_val, y_val),\n",
    "                        batch_size=1, verbose=0)\n",
    "    mae_history = history.history['val_mean_absolute_error']\n",
    "    all_mae_histories.append(mae_history)"
   ]
  },
  {
   "cell_type": "code",
   "execution_count": 13,
   "metadata": {},
   "outputs": [
    {
     "data": {
      "image/png": "[encoded data removed]",
      "text/plain": [
       "<Figure size 432x288 with 1 Axes>"
      ]
     },
     "metadata": {},
     "output_type": "display_data"
    }
   ],
   "source": [
    "average_mae_history = [np.mean([x[i] for x in all_mae_histories])\n",
    "                       for i in range(num_epochs)]\n",
    "pl.plot(range(1, len(average_mae_history) + 1), average_mae_history)\n",
    "pl.xlabel('Epochs')\n",
    "pl.ylabel('Validation MAE');"
   ]
  },
  {
   "cell_type": "code",
   "execution_count": 14,
   "metadata": {},
   "outputs": [
    {
     "name": "stdout",
     "output_type": "stream",
     "text": [
      "43/43 [==============================] - 0s 43us/step\n"
     ]
    }
   ],
   "source": [
    "test_mse_score, test_mae_score = model.evaluate(X_test, y_test)"
   ]
  },
  {
   "cell_type": "code",
   "execution_count": 15,
   "metadata": {},
   "outputs": [
    {
     "data": {
      "text/plain": [
       "0.25486750812974424"
      ]
     },
     "execution_count": 15,
     "metadata": {},
     "output_type": "execute_result"
    }
   ],
   "source": [
    "np.sqrt(test_mse_score)"
   ]
  },
  {
   "cell_type": "code",
   "execution_count": 16,
   "metadata": {},
   "outputs": [
    {
     "data": {
      "text/plain": [
       "0.17124786505172418"
      ]
     },
     "execution_count": 16,
     "metadata": {},
     "output_type": "execute_result"
    }
   ],
   "source": [
    "test_mae_score"
   ]
  },
  {
   "cell_type": "code",
   "execution_count": 17,
   "metadata": {},
   "outputs": [],
   "source": [
    "y_pred = model.predict(X_test)"
   ]
  },
  {
   "cell_type": "code",
   "execution_count": 23,
   "metadata": {},
   "outputs": [
    {
     "data": {
      "text/plain": [
       "<matplotlib.legend.Legend at 0x7f3a49a26eb8>"
      ]
     },
     "execution_count": 23,
     "metadata": {},
     "output_type": "execute_result"
    },
    {
     "data": {
      "image/png": "[encoded data removed]",
      "text/plain": [
       "<Figure size 720x720 with 1 Axes>"
      ]
     },
     "metadata": {},
     "output_type": "display_data"
    }
   ],
   "source": [
    "_, ax = pl.subplots(figsize=(10, 10))\n",
    "r2_  = r2_score(y_test, y_pred)\n",
    "mae = mean_absolute_error(y_test, y_pred, )\n",
    "min_ = min(y_pred.min(), y_test.min())\n",
    "max_ = max(y_pred.max(), y_test.max())\n",
    "ax.plot([min_, max_],[min_, max_], ls='--', color='k', label='1:1')\n",
    "ax.scatter(y_pred, y_test, label='$r^2$ = %.2f, mae = %.2f' %(r2_, mae))\n",
    "ax.set_xlabel('predicted')\n",
    "ax.set_ylabel=('observed')\n",
    "ax.legend()\n",
    "ax.set_title('MLP - Test Data')"
   ]
  },
  {
   "cell_type": "code",
   "execution_count": 31,
   "metadata": {},
   "outputs": [
    {
     "data": {
      "image/png": "[encoded data removed]",
      "text/plain": [
       "<Figure size 864x576 with 1 Axes>"
      ]
     },
     "metadata": {},
     "output_type": "display_data"
    }
   ],
   "source": [
    "ix = np.argsort(y_test)\n",
    "xi = np.arange(ix.size)\n",
    "_, ax = pl.subplots(figsize=(12, 8))\n",
    "ax.scatter(xi, y_test[ix], color='steelblue', edgecolor='k', s=50, label='observed')\n",
    "ax.scatter(xi, y_pred[ix], color='m', edgecolor='k', s=50, label='predicted')\n",
    "ax.legend();"
   ]
  },
  {
   "cell_type": "code",
   "execution_count": 32,
   "metadata": {},
   "outputs": [
    {
     "name": "stdout",
     "output_type": "stream",
     "text": [
      "_________________________________________________________________\n",
      "Layer (type)                 Output Shape              Param #   \n",
      "=================================================================\n",
      "dense_22 (Dense)             (None, 64)                1088      \n",
      "_________________________________________________________________\n",
      "dense_23 (Dense)             (None, 64)                4160      \n",
      "_________________________________________________________________\n",
      "dense_24 (Dense)             (None, 1)                 65        \n",
      "=================================================================\n",
      "Total params: 5,313\n",
      "Trainable params: 5,313\n",
      "Non-trainable params: 0\n",
      "_________________________________________________________________\n"
     ]
    }
   ],
   "source": [
    "model.summary()"
   ]
  },
  {
   "cell_type": "code",
   "execution_count": null,
   "metadata": {},
   "outputs": [],
   "source": []
  }
 ],
 "metadata": {
  "kernelspec": {
   "display_name": "Python [conda env:machine_learning]",
   "language": "python",
   "name": "conda-env-machine_learning-py"
  },
  "language_info": {
   "codemirror_mode": {
    "name": "ipython",
    "version": 3
   },
   "file_extension": ".py",
   "mimetype": "text/x-python",
   "name": "python",
   "nbconvert_exporter": "python",
   "pygments_lexer": "ipython3",
   "version": "3.6.5"
  }
 },
 "nbformat": 4,
 "nbformat_minor": 2
}
