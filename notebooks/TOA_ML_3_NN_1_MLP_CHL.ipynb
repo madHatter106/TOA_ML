{
 "cells": [
  {
   "cell_type": "code",
   "execution_count": 71,
   "metadata": {},
   "outputs": [],
   "source": [
    "from IPython.core.display import HTML, display\n",
    "from collections import namedtuple as NT\n",
    "\n",
    "import pandas as pd\n",
    "import numpy as np\n",
    "from sklearn.preprocessing import StandardScaler\n",
    "from sklearn.model_selection import train_test_split, cross_val_score, KFold, LeaveOneOut\n",
    "from sklearn.metrics import r2_score, mean_absolute_error\n",
    "import matplotlib.pyplot as pl\n",
    "from matplotlib import rcParams\n",
    "\n",
    "from keras import models\n",
    "from keras.layers import Dense, Conv1D, MaxPool1D\n",
    "from keras import regularizers\n",
    "from keras.wrappers.scikit_learn import KerasRegressor\n",
    "from tqdm import tnrange, tqdm_notebook"
   ]
  },
  {
   "cell_type": "code",
   "execution_count": 2,
   "metadata": {},
   "outputs": [
    {
     "data": {
      "text/html": [
       "<style>.container {width:90% !important}</style>"
      ],
      "text/plain": [
       "<IPython.core.display.HTML object>"
      ]
     },
     "metadata": {},
     "output_type": "display_data"
    }
   ],
   "source": [
    "display(HTML(\"<style>.container {width:90% !important}</style>\"))"
   ]
  },
  {
   "cell_type": "code",
   "execution_count": 3,
   "metadata": {},
   "outputs": [],
   "source": [
    "% matplotlib inline\n",
    "rcParams['axes.labelsize'] = 16\n",
    "rcParams['xtick.labelsize'] = 16\n",
    "rcParams['ytick.labelsize'] = 16\n",
    "rcParams['font.size'] = 16\n",
    "rcParams['axes.titlesize'] = 18\n",
    "rcParams['figure.titlesize'] = 20"
   ]
  },
  {
   "cell_type": "code",
   "execution_count": 4,
   "metadata": {},
   "outputs": [],
   "source": [
    "d_ = pd.read_pickle('./pickleJar/OperationalDataSets/df_6_FullSet_noInteractions.pkl')"
   ]
  },
  {
   "cell_type": "code",
   "execution_count": 5,
   "metadata": {},
   "outputs": [
    {
     "name": "stdout",
     "output_type": "stream",
     "text": [
      "<class 'pandas.core.frame.DataFrame'>\n",
      "Int64Index: 162 entries, 2 to 494\n",
      "Data columns (total 28 columns):\n",
      "oisst_s            162 non-null float64\n",
      "solz_s             162 non-null float64\n",
      "sat_rho_rc412_s    162 non-null float64\n",
      "sat_rho_rc443_s    162 non-null float64\n",
      "sat_rho_rc490_s    162 non-null float64\n",
      "sat_rho_rc510_s    162 non-null float64\n",
      "sat_rho_rc555_s    162 non-null float64\n",
      "sat_rho_rc670_s    162 non-null float64\n",
      "log10_etopo2_s     162 non-null float64\n",
      "sin_doy_s          162 non-null float64\n",
      "cos_doy_s          162 non-null float64\n",
      "sin_minofday_s     162 non-null float64\n",
      "cos_minofday_s     162 non-null float64\n",
      "x_s                162 non-null float64\n",
      "y_s                162 non-null float64\n",
      "z_s                162 non-null float64\n",
      "aphy411            162 non-null float64\n",
      "aphy443            162 non-null float64\n",
      "aphy489            162 non-null float64\n",
      "aphy510            162 non-null float64\n",
      "aphy555            162 non-null float64\n",
      "aphy670            162 non-null float64\n",
      "log10_aphy411      162 non-null float64\n",
      "log10_aphy443      162 non-null float64\n",
      "log10_aphy489      162 non-null float64\n",
      "log10_aphy510      162 non-null float64\n",
      "log10_aphy555      162 non-null float64\n",
      "log10_aphy670      162 non-null float64\n",
      "dtypes: float64(28)\n",
      "memory usage: 36.7 KB\n"
     ]
    }
   ],
   "source": [
    "d_.info()"
   ]
  },
  {
   "cell_type": "code",
   "execution_count": 6,
   "metadata": {},
   "outputs": [],
   "source": [
    "X_sat = d_.dropna().filter(regex='sat')\n",
    "y = d_.dropna().loc[:, 'log10_aphy%d' % band]"
   ]
  },
  {
   "cell_type": "code",
   "execution_count": 7,
   "metadata": {},
   "outputs": [],
   "source": [
    "assert X_sat.shape[0] == y.size"
   ]
  },
  {
   "cell_type": "code",
   "execution_count": 8,
   "metadata": {},
   "outputs": [],
   "source": [
    "X_train, X_test, y_train, y_test = train_test_split(X_sat, y, test_size=0.1, random_state=42)"
   ]
  },
  {
   "cell_type": "code",
   "execution_count": 12,
   "metadata": {},
   "outputs": [],
   "source": [
    "def build_MLP_model(layers=1,n_hidden=256):\n",
    "    model = models.Sequential()\n",
    "    model.add(Dense(n_hidden, activation='relu', input_shape=(X_train.shape[1], )))\n",
    "    if layers == 2:\n",
    "        model.add(Dense(n_hidden, activation='relu'))\n",
    "    model.add(Dense(1))\n",
    "    model.compile(optimizer='adam', loss='mse', metrics=['mae'])\n",
    "    return model\n",
    "\n",
    "def smooth(curve, points, factor=0.9):\n",
    "    smoothed_points = []\n",
    "    for point in points:\n",
    "        if smoothed_points:\n",
    "            previous = smoothed_points[-1]\n",
    "            smoothed_points.append(previous * factor + point * (1 - factor))\n",
    "        else:\n",
    "            smoothed_points.append(point)\n",
    "    return smoothed_points"
   ]
  },
  {
   "cell_type": "markdown",
   "metadata": {},
   "source": [
    "Given the small size of the data set, I will use k-fold validation to train the model."
   ]
  },
  {
   "cell_type": "code",
   "execution_count": 70,
   "metadata": {},
   "outputs": [
    {
     "data": {
      "text/plain": [
       "{'fvm': [], 'fvmse': []}"
      ]
     },
     "execution_count": 70,
     "metadata": {},
     "output_type": "execute_result"
    }
   ],
   "source": []
  },
  {
   "cell_type": "code",
   "execution_count": 95,
   "metadata": {},
   "outputs": [],
   "source": [
    "def Cross_Fold_Validation(X_, y_, model_, k=4, num_epochs=100):\n",
    "    results = dict(fold_val_mae=[], fold_val_mse=[],\n",
    "                   val_mae_histories=[], train_mae_histories=[])\n",
    "    kfold = KFold(n_splits=k, )\n",
    "    for train_idx, val_idx in kfold.split(X_):\n",
    "        history = model_.fit(X_[train_idx], y_[train_idx], epochs=num_epochs,\n",
    "                            validation_data=(X_[val_idx], y_[val_idx]),\n",
    "                            batch_size=1,  verbose=0)\n",
    "        val_mse, val_mae = model_.evaluate(X_[val_idx], y_[val_idx], verbose=0)\n",
    "        results['fold_val_mae'].append(val_mae)\n",
    "        results['fold_val_mse'].append(val_mse)\n",
    "        results['val_mae_histories'].append(history.history['val_mean_absolute_error'])\n",
    "        results['train_mae_histories'].append(history.history['mean_absolute_error'])\n",
    "    return results\n",
    "\n",
    "\n",
    "def LOO_Validation(X_, y_, model_, num_epochs=100):\n",
    "    results = dict(fold_val_mae=[], fold_val_mse=[],\n",
    "                   val_mae_histories=[], train_mae_histories=[])\n",
    "    loo = LeaveOneOut()\n",
    "    for train_idx, val_idx in loo.split(X_):\n",
    "        history = model_.fit(X_[train_idx], y_[train_idx], epochs=num_epochs,\n",
    "                            validation_data=(X_[val_idx], y_[val_idx]),\n",
    "                            batch_size=1, verbose=0)\n",
    "        val_mse, val_mae = model_.evaluate(X_[val_idx], y_[val_idx], verbose=0)\n",
    "        results['fold_val_mae'].append(val_mae)\n",
    "        results['fold_val_mse'].append(val_mse)\n",
    "        results['val_mae_histories'].append(history.history['val_mean_absolute_error'])\n",
    "        results['train_mae_histories'].append(history.history['mean_absolute_error'])\n",
    "    return results\n",
    "\n",
    "\n",
    "def plot_mae_history(train_mae_history, val_mae_history):\n",
    "    avg_val_mae_history = [np.mean([x[i] for x in val_mae_histories])\n",
    "                           for i in range(num_epochs)]\n",
    "    avg_train_mae_history = [np.mean([x[i] for x in train_mae_histories])\n",
    "                           for i in range(num_epochs)]\n",
    "    pl.plot(range(1, len(avg_val_mae_history) + 1), avg_val_mae_history, label='val')\n",
    "    pl.plot(range(1, len(avg_train_mae_history) + 1), avg_train_mae_history, label='train',\n",
    "           color='r')\n",
    "    pl.xlabel('Epochs')\n",
    "    pl.ylabel('MAE');\n",
    "    \n",
    "def plot_fits(model_,):\n",
    "    y_pred = model_.predict(X_test)\n",
    "    _, ax = pl.subplots(figsize=(10, 10))\n",
    "    r2_  = r2_score(y_test, y_pred)\n",
    "    mae = mean_absolute_error(y_test, y_pred, )\n",
    "    min_ = min(y_pred.min(), y_test.min())\n",
    "    max_ = max(y_pred.max(), y_test.max())\n",
    "    ax.plot([min_, max_],[min_, max_], ls='--', color='k', label='1:1')\n",
    "    ax.scatter(y_pred, y_test, label='$r^2$ = %.2f, mae = %.2f' %(r2_, mae))\n",
    "    ax.set_xlabel('predicted')\n",
    "    ax.set_ylabel=('observed')\n",
    "    ax.legend()\n",
    "    ax.set_title('MLP - Test Data')\n",
    "\n",
    "    \n",
    "def plot_fits_2(model_,):\n",
    "    y_pred = model_.predict(X_test.values)\n",
    "    ix = np.argsort(y_test)\n",
    "    xi = np.arange(ix.size)\n",
    "    _, ax = pl.subplots(figsize=(12, 8))\n",
    "    ax.scatter(xi, y_test.values[ix], color='steelblue', edgecolor='k', s=50, label='observed')\n",
    "    ax.scatter(xi, y_pred[ix], color='m', edgecolor='k', s=50, label='predicted')\n",
    "    ax.legend();"
   ]
  },
  {
   "cell_type": "markdown",
   "metadata": {},
   "source": [
    "### Single Layer Models\n",
    "#### 1. <u>4-Fold Cross-Validation</u>"
   ]
  },
  {
   "cell_type": "code",
   "execution_count": 67,
   "metadata": {},
   "outputs": [],
   "source": [
    "model_L1NN_KCV = build_MLP_model()"
   ]
  },
  {
   "cell_type": "code",
   "execution_count": 68,
   "metadata": {},
   "outputs": [],
   "source": [
    "X_train_ = X_train.values\n",
    "y_train_ = y_train.values"
   ]
  },
  {
   "cell_type": "code",
   "execution_count": 76,
   "metadata": {},
   "outputs": [],
   "source": [
    "results_l1nn_kcv = Cross_Fold_Validation(X_train_, y_train_, model_=model_L1NN_KCV)"
   ]
  },
  {
   "cell_type": "code",
   "execution_count": 80,
   "metadata": {},
   "outputs": [
    {
     "data": {
      "text/plain": [
       "[0.07534899623007388,\n",
       " 0.08488730920685662,\n",
       " 0.11243537978993522,\n",
       " 0.07854123910268147]"
      ]
     },
     "execution_count": 80,
     "metadata": {},
     "output_type": "execute_result"
    }
   ],
   "source": [
    "results_l1nn_kcv['fold_val_mae']"
   ]
  },
  {
   "cell_type": "code",
   "execution_count": 82,
   "metadata": {},
   "outputs": [
    {
     "data": {
      "image/png": "[encoded data removed]",
      "text/plain": [
       "<Figure size 432x288 with 1 Axes>"
      ]
     },
     "metadata": {},
     "output_type": "display_data"
    }
   ],
   "source": [
    "plot_mae_history(results_l1nn_kcv['train_mae_histories'], results_l1nn_kcv['val_mae_histories'])"
   ]
  },
  {
   "cell_type": "code",
   "execution_count": 84,
   "metadata": {},
   "outputs": [
    {
     "name": "stdout",
     "output_type": "stream",
     "text": [
      "\r",
      "17/17 [==============================] - 0s 55us/step\n"
     ]
    },
    {
     "data": {
      "text/plain": [
       "(0.110088905080065, 0.09527956694364548)"
      ]
     },
     "execution_count": 84,
     "metadata": {},
     "output_type": "execute_result"
    }
   ],
   "source": [
    "test_mse_score, test_mae_score = model_L1NN_KCV.evaluate(X_test, y_test)\n",
    "np.sqrt(test_mse_score), test_mae_score"
   ]
  },
  {
   "cell_type": "code",
   "execution_count": 86,
   "metadata": {},
   "outputs": [
    {
     "data": {
      "image/png": "[encoded data removed]",
      "text/plain": [
       "<Figure size 720x720 with 1 Axes>"
      ]
     },
     "metadata": {},
     "output_type": "display_data"
    }
   ],
   "source": [
    "plot_fits(model_L1NN_KCV, X_test)"
   ]
  },
  {
   "cell_type": "code",
   "execution_count": 92,
   "metadata": {},
   "outputs": [
    {
     "data": {
      "image/png": "[encoded data removed]",
      "text/plain": [
       "<Figure size 864x576 with 1 Axes>"
      ]
     },
     "metadata": {},
     "output_type": "display_data"
    }
   ],
   "source": [
    "plot_fits_2(model_L1NN_KCV)"
   ]
  },
  {
   "cell_type": "code",
   "execution_count": 93,
   "metadata": {},
   "outputs": [
    {
     "name": "stdout",
     "output_type": "stream",
     "text": [
      "_________________________________________________________________\n",
      "Layer (type)                 Output Shape              Param #   \n",
      "=================================================================\n",
      "dense_91 (Dense)             (None, 256)               1792      \n",
      "_________________________________________________________________\n",
      "dense_92 (Dense)             (None, 1)                 257       \n",
      "=================================================================\n",
      "Total params: 2,049\n",
      "Trainable params: 2,049\n",
      "Non-trainable params: 0\n",
      "_________________________________________________________________\n"
     ]
    }
   ],
   "source": [
    "model_L1NN_KCV.summary()"
   ]
  },
  {
   "cell_type": "markdown",
   "metadata": {},
   "source": [
    "#### 2. <u>Leave-One-Out Cross-Validation</u>"
   ]
  },
  {
   "cell_type": "code",
   "execution_count": null,
   "metadata": {},
   "outputs": [],
   "source": [
    "model_L1NN_LOO = build_MLP_model()\n",
    "results_l1nn_loo = LOO_Validation(X_train_, y_train_, model_=model_L1NN_LOO)"
   ]
  },
  {
   "cell_type": "code",
   "execution_count": null,
   "metadata": {},
   "outputs": [],
   "source": [
    "results_l1nn_kcv['fold_val_mae'], results_l1nn_loo['fold_val_mae']"
   ]
  },
  {
   "cell_type": "code",
   "execution_count": null,
   "metadata": {},
   "outputs": [],
   "source": [
    "plot_mae_history(results_l1nn_loo['train_mae_histories'], results_l1nn_loo['val_mae_histories'])"
   ]
  },
  {
   "cell_type": "code",
   "execution_count": null,
   "metadata": {},
   "outputs": [],
   "source": [
    "test_mse_score_loo, test_mae_score_loo = model_L1NN_LOO.evaluate(X_test, y_test)\n",
    "np.sqrt(test_mse_score_loo), test_mae_score_loo"
   ]
  }
 ],
 "metadata": {
  "kernelspec": {
   "display_name": "Python [conda env:machine_learning]",
   "language": "python",
   "name": "conda-env-machine_learning-py"
  },
  "language_info": {
   "codemirror_mode": {
    "name": "ipython",
    "version": 3
   },
   "file_extension": ".py",
   "mimetype": "text/x-python",
   "name": "python",
   "nbconvert_exporter": "python",
   "pygments_lexer": "ipython3",
   "version": "3.6.5"
  }
 },
 "nbformat": 4,
 "nbformat_minor": 2
}
