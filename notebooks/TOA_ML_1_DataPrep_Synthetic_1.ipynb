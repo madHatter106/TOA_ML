{
 "cells": [
  {
   "cell_type": "code",
   "execution_count": 57,
   "metadata": {},
   "outputs": [],
   "source": [
    "import pathlib\n",
    "import os\n",
    "from scipy.io import loadmat\n",
    "\n",
    "import pandas as pd\n",
    "import numpy as np\n",
    "\n",
    "from seaborn import heatmap\n",
    "import matplotlib.pyplot as pl"
   ]
  },
  {
   "cell_type": "markdown",
   "metadata": {},
   "source": [
    "From the doc:\n",
    "<br>\n",
    "<u>group</u>: Denotes a grouping based on a ph (440) values (12 groups)\n",
    "<br>\n",
    "<u>class</u>: Denotes a spectral shape grouping (4 groups)"
   ]
  },
  {
   "cell_type": "markdown",
   "metadata": {},
   "source": [
    "* atot – total absorption coefficient (m -1 )\n",
    "* ad – detrital absorption coefficient (m -1 )\n",
    "* ag – CDOM absorption coefficient (m -1 )\n",
    "* aph – phytoplankton absorption coefficient (m -1 )\n",
    "* bbtot – total backscattering coefficient (m -1 )\n",
    "* bbdm – detrital backscattering coefficient (m -1 )\n",
    "* bbph – phytoplankton backscattering coefficient (m -1 )"
   ]
  },
  {
   "cell_type": "code",
   "execution_count": 59,
   "metadata": {},
   "outputs": [],
   "source": [
    "def make_matfiles_list(path_string):\n",
    "    path = pathlib.Path(path_string)\n",
    "    return [file.as_posix() for file in path.glob('*.mat')]"
   ]
  },
  {
   "cell_type": "code",
   "execution_count": 157,
   "metadata": {},
   "outputs": [],
   "source": [
    "def extract_data_from(this, wave_prefix):\n",
    "    \"\"\"Extracts matlab arrays from .mat\"\"\"\n",
    "    group, class_, wave, data = this\n",
    "    group = group.squeeze()\n",
    "    class_ = class_.squeeze()\n",
    "    wave = wave.squeeze()\n",
    "    cols = ['group', 'class'] + ['%s_%d' %(wave_prefix, w) for w in wave]\n",
    "    df = pd.DataFrame(np.c_[group, class_, data], columns=cols)\n",
    "    return df"
   ]
  },
  {
   "cell_type": "code",
   "execution_count": 171,
   "metadata": {},
   "outputs": [],
   "source": [
    "def read_files(matfiles_list):\n",
    "    \"\"\"This function reads Lt data, categorized by aerosol optical index tau.\n",
    "        The data is then put into a pandas dataframe and written into the picklejar\n",
    "        directory.\"\"\"\n",
    "    for file in matfiles_list:\n",
    "        print('processing %s' % file)\n",
    "        basename = os.path.basename(file).split('.')[0]\n",
    "        mat_ = loadmat(file)\n",
    "        if 'tau' in basename:\n",
    "            df_t = extract_data_from(mat_[basename][0][0], wave_prefix='Lt')\n",
    "            df_t.to_pickle('./pickleJar/SyntheticDataSets/df_%s.pkl' % basename)\n",
    "        elif 'IOP' in basename:\n",
    "            mat_keys = [k for k in mat_.keys() if '__' not in k]\n",
    "            for key in mat_keys:\n",
    "                df_iop = extract_data_from(mat_[key][0, 0], wave_prefix=key)\n",
    "                df_iop.to_pickle('./pickleJar/SyntheticDataSets/df_%s.pkl' %key)\n",
    "        else:\n",
    "            print('cannot process file %s' %file)\n",
    "            "
   ]
  },
  {
   "cell_type": "code",
   "execution_count": 172,
   "metadata": {},
   "outputs": [],
   "source": [
    "p_str = './data/synthetic_data/'\n",
    "matfiles = make_matfiles_list(p_str)"
   ]
  },
  {
   "cell_type": "code",
   "execution_count": 173,
   "metadata": {},
   "outputs": [
    {
     "data": {
      "text/plain": [
       "['data/synthetic_data/tau_05.mat',\n",
       " 'data/synthetic_data/tau_03.mat',\n",
       " 'data/synthetic_data/tau_08.mat',\n",
       " 'data/synthetic_data/tau_01.mat',\n",
       " 'data/synthetic_data/synthIOPs.mat']"
      ]
     },
     "execution_count": 173,
     "metadata": {},
     "output_type": "execute_result"
    }
   ],
   "source": [
    "matfiles"
   ]
  },
  {
   "cell_type": "code",
   "execution_count": 174,
   "metadata": {},
   "outputs": [
    {
     "name": "stdout",
     "output_type": "stream",
     "text": [
      "processing data/synthetic_data/tau_05.mat\n",
      "processing data/synthetic_data/tau_03.mat\n",
      "processing data/synthetic_data/tau_08.mat\n",
      "processing data/synthetic_data/tau_01.mat\n",
      "processing data/synthetic_data/synthIOPs.mat\n"
     ]
    }
   ],
   "source": [
    "read_files(matfiles)"
   ]
  },
  {
   "cell_type": "code",
   "execution_count": null,
   "metadata": {},
   "outputs": [],
   "source": []
  }
 ],
 "metadata": {
  "kernelspec": {
   "display_name": "Python [conda env:machine_learning]",
   "language": "python",
   "name": "conda-env-machine_learning-py"
  },
  "language_info": {
   "codemirror_mode": {
    "name": "ipython",
    "version": 3
   },
   "file_extension": ".py",
   "mimetype": "text/x-python",
   "name": "python",
   "nbconvert_exporter": "python",
   "pygments_lexer": "ipython3",
   "version": "3.6.5"
  }
 },
 "nbformat": 4,
 "nbformat_minor": 2
}
