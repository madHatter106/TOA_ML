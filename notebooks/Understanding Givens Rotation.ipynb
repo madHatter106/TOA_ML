{
 "cells": [
  {
   "cell_type": "code",
   "execution_count": 20,
   "metadata": {},
   "outputs": [],
   "source": [
    "import numpy as np\n",
    "from numpy import linalg as nla\n",
    "import matplotlib.pyplot as pl\n",
    "%matplotlib inline\n",
    "from seaborn import heatmap"
   ]
  },
  {
   "cell_type": "code",
   "execution_count": 2,
   "metadata": {},
   "outputs": [],
   "source": [
    "def sane_quiver(vs, ax=None, colors=None):\n",
    "    '''plot(0, 0) origin column vectors'''\n",
    "    vs = np.asarray(vs)\n",
    "    assert vs.ndim == 2 and vs.shape[1] == 2 # ensure column vectors\n",
    "    n = vs.shape[0]\n",
    "    if not ax: \n",
    "        ax = pl.gca()\n",
    "    zs = np.zeros(n)\n",
    "    xs = vs.T[0]\n",
    "    ys = vs.T[1]\n",
    "    props = dict(angles='xy', scale=1, scale_units='xy')\n",
    "    ax.quiver(zs, zs, xs, ys, color=colors, **props)\n",
    "    ax.set_aspect('equal')\n",
    "    ax.set_axis_off()\n",
    "    _min, _max = vs.min()-1, vs.max()+1\n",
    "    ax.set_xlim(_min, _max)\n",
    "    ax.set_ylim(_min, _max)"
   ]
  },
  {
   "cell_type": "code",
   "execution_count": 22,
   "metadata": {},
   "outputs": [],
   "source": [
    "def zeroing_givens_coeffs(x, z):\n",
    "    \"\"\" for the values x, z, compute cos th, sin th\n",
    "    s.t. applying a Givens rotation G(cos th, sin th)\n",
    "    on 2 rows or cols, with values x, z maps x-->r and z --> $\\theta$\n",
    "    \"\"\"\n",
    "    if z == 0.0: # better : abs(z) < np.finfo(np.double).eps\n",
    "        return 1.0, 0.0\n",
    "    r = np.hypot(x, z) # c99 hypot is safe for under/overflow\n",
    "    return x/r, -z/r"
   ]
  },
  {
   "cell_type": "code",
   "execution_count": 3,
   "metadata": {},
   "outputs": [],
   "source": [
    "x = np.array([1.0, 1.0])\n",
    "theta = np.pi/2\n",
    "sin_th = np.sin(theta)\n",
    "cos_th = np.cos(theta)\n",
    "givens_rot = np.array([[cos_th, sin_th],\n",
    "                      [-sin_th, cos_th]])"
   ]
  },
  {
   "cell_type": "code",
   "execution_count": 13,
   "metadata": {},
   "outputs": [
    {
     "data": {
      "text/plain": [
       "array([1., 1.])"
      ]
     },
     "execution_count": 13,
     "metadata": {},
     "output_type": "execute_result"
    }
   ],
   "source": []
  },
  {
   "cell_type": "code",
   "execution_count": 15,
   "metadata": {},
   "outputs": [
    {
     "data": {
      "text/plain": [
       "(array([-1.,  1.]), array([ 1., -1.]))"
      ]
     },
     "execution_count": 15,
     "metadata": {},
     "output_type": "execute_result"
    }
   ],
   "source": [
    "givens_rot.T.dot(x), x.dot(givens_rot.T)"
   ]
  },
  {
   "cell_type": "code",
   "execution_count": 12,
   "metadata": {},
   "outputs": [
    {
     "data": {
      "image/png": "[encoded data removed]",
      "text/plain": [
       "<Figure size 432x288 with 2 Axes>"
      ]
     },
     "metadata": {
      "needs_background": "light"
     },
     "output_type": "display_data"
    }
   ],
   "source": [
    "fig, (axL, axR) = pl.subplots(1, 2)\n",
    "# G.T.dot(X)\n",
    "sane_quiver([x, givens_rot.T.dot(x)], axL, colors=['b','r'])\n",
    "# X.dot(G)\n",
    "sane_quiver([x, x.dot(givens_rot.T)], axR, colors=['b', 'r'])\n",
    "axR.quiver()"
   ]
  },
  {
   "cell_type": "code",
   "execution_count": 25,
   "metadata": {},
   "outputs": [
    {
     "data": {
      "text/plain": [
       "4.0"
      ]
     },
     "execution_count": 25,
     "metadata": {},
     "output_type": "execute_result"
    }
   ],
   "source": [
    "np.copysign(-4, 3)"
   ]
  },
  {
   "cell_type": "markdown",
   "metadata": {},
   "source": [
    "Translating from Stan, taken [here](https://github.com/pourzanj/TfRotationPca/blob/master/Stan/Ppca.stan)"
   ]
  },
  {
   "cell_type": "code",
   "execution_count": null,
   "metadata": {},
   "outputs": [],
   "source": [
    "def matrix_left_rotation(A, angle, n, p, i, j):\n",
    "    RA = A.copy()\n",
    "    RA[i] = np.cos(angle) * A[i] - np.sin(angle) * A[j]\n",
    "    RA[j] = np.sin(angle) * A[i] + np.cos(angle) * A[j]"
   ]
  }
 ],
 "metadata": {
  "kernelspec": {
   "display_name": "Python [conda env:machine_learning]",
   "language": "python",
   "name": "conda-env-machine_learning-py"
  },
  "language_info": {
   "codemirror_mode": {
    "name": "ipython",
    "version": 3
   },
   "file_extension": ".py",
   "mimetype": "text/x-python",
   "name": "python",
   "nbconvert_exporter": "python",
   "pygments_lexer": "ipython3",
   "version": "3.6.6"
  }
 },
 "nbformat": 4,
 "nbformat_minor": 2
}
