{
 "cells": [
  {
   "cell_type": "code",
   "execution_count": 129,
   "metadata": {},
   "outputs": [],
   "source": [
    "import pickle\n",
    "import re\n",
    "from math import sqrt\n",
    "from warnings import filterwarnings\n",
    "filterwarnings('ignore')\n",
    "from IPython.core.display import HTML, display\n",
    "\n",
    "import numpy as np\n",
    "import pandas as pd\n",
    "\n",
    "from sklearn.metrics import r2_score, mean_absolute_error\n",
    "\n",
    "import matplotlib.pyplot as pl\n",
    "from matplotlib import rcParams\n",
    "from matplotlib.ticker import FuncFormatter\n",
    "from matplotlib import cm\n",
    "from matplotlib.colors import Normalize\n",
    "import matplotlib.gridspec as GS\n",
    "from seaborn import PairGrid, heatmap, kdeplot, FacetGrid, scatterplot, cubehelix_palette\n",
    "import cmocean.cm as cmo\n",
    "import arviz as az\n",
    "\n",
    "import pymc3 as pm\n",
    "from pymc_utils import subset_significant_feature"
   ]
  },
  {
   "cell_type": "code",
   "execution_count": 26,
   "metadata": {},
   "outputs": [],
   "source": [
    "def create_smry(trc, labels, vname=['w'], alpha=0.05,\n",
    "                sort=False, abs_sort=False, **kwargs):\n",
    "    ''' Conv fn: create trace summary for sorted forestplot '''\n",
    "    hpd_lo, hpd_hi = 100 * (alpha / 2), 100 * (1 - alpha / 2)\n",
    "    subset_ = kwargs.pop('subset_significant', False)\n",
    "    dfsm = pm.summary(trc, varnames=vname, alpha=alpha)\n",
    "    dfsm.rename(index={wi: lbl for wi, lbl in zip(dfsm.index, labels)},\n",
    "                inplace=True)\n",
    "    if subset_:\n",
    "        dfsm = dfsm[(((dfsm[f'hpd_{hpd_lo}']<0)&(dfsm[f'hpd_{hpd_hi}']<0))|\n",
    "                    ((dfsm[f'hpd_{hpd_lo}']>0) & (dfsm[f'hpd_{hpd_hi}']>0))\n",
    "                   )]\n",
    "    if sort:\n",
    "        dfsm.sort_values('mean', ascending=True, inplace=True)\n",
    "    elif abs_sort:\n",
    "        dfsm['abs_mean'] = np.abs(dfsm['mean'])\n",
    "        dfsm.sort_values('abs_mean', ascending=False, inplace=True)\n",
    "    dfsm['ypos'] = np.linspace(1, 0, len(dfsm))\n",
    "    return dfsm\n",
    "\n",
    "\n",
    "def custom_forestplot(df, ax, replace_bathy=True):\n",
    "    ax.scatter(x=df['mean'], y=df.ypos, edgecolor='k', facecolor='white', zorder=2)\n",
    "    ax.hlines(df.ypos, xmax=df['hpd_97.5'], xmin=df['hpd_2.5'],\n",
    "              color='k', zorder=1, linewidth=3)\n",
    "    ax.set_yticks(df.ypos)\n",
    "    ax.set_yticklabels(df.index.tolist())\n",
    "    ax.axvline(linestyle=':', color='k')\n",
    "    ax.grid(axis='y', zorder=0)\n",
    "\n",
    "    \n",
    "def plot_pairwise_map(df, ax=None, annot=False):\n",
    "    if ax is None:\n",
    "        _, ax = pl.subplots(figsize=(20, 20))\n",
    "    dfc = df.corr().iloc[1:, :-1]\n",
    "    heatmap(dfc, vmin=-1, vmax=1, cmap=cmo.balance_r, annot=annot, annot_kws={'fontsize': 6},\n",
    "            ax=ax, mask=np.triu(np.ones([dfc.shape[1]]*2), k=1), fmt='.1f',\n",
    "           linewidths=0.5, linecolor='black')\n",
    "    ax.set_facecolor('k')\n",
    "    return ax\n",
    "\n",
    "\n",
    "def plot_obs_against_ppc(y_obs, ppc, ax=None, plot_1_to_1=False,\n",
    "                         add_label=True, **scatter_kwds):\n",
    "    if ax is None:\n",
    "        _, ax = pl.subplots(figsize=(10, 10))\n",
    "    ppc_mean = ppc.mean(axis=0)\n",
    "    mae = mean_absolute_error(y_obs, ppc_mean)\n",
    "    r2 = r2_score(y_obs, ppc_mean)\n",
    "    if add_label:\n",
    "        scatter_lbl = scatter_kwds.pop('label', '')\n",
    "        scatter_lbl = fr'{scatter_lbl}; {r2:.2f}; {mae:.2f}'\n",
    "        ax.scatter(y_obs, ppc_mean, edgecolor='k', label=scatter_lbl, **scatter_kwds)\n",
    "    else:\n",
    "        ax.scatter(y_obs, ppc_mean, edgecolor='k', **scatter_kwds)\n",
    "    if plot_1_to_1:\n",
    "        min_ = min(ppc_mean.min(), y_obs.min())\n",
    "        max_ = max(ppc_mean.max(), y_obs.max())\n",
    "        ax.plot([min_, max_], [min_, max_], ls='--', color='k', label='1:1')\n",
    "    ax.legend(loc='upper left')\n",
    "    return ax\n",
    "\n",
    "\n",
    "def plot_fits_w_estimates(y_obs, ppc, ax=None, legend=False):\n",
    "    \"\"\" Plot Fits with Uncertainty Estimates\"\"\"\n",
    "    iy  = np.argsort(y_obs)\n",
    "    ix = np.arange(iy.size)\n",
    "    lik_mean = ppc.mean(axis=0)\n",
    "    lik_hpd = pm.hpd(ppc)\n",
    "    lik_hpd_05 = pm.hpd(ppc, alpha=0.5)\n",
    "    r2 = r2_score(y_obs, lik_mean)\n",
    "    mae = mean_absolute_error(y_obs, lik_mean)\n",
    "    if ax is None:\n",
    "        _, ax = pl.subplots(figsize=(12, 8))\n",
    "    ax.scatter(ix, y_obs.values[iy], label='observed', edgecolor='k', s=40,\n",
    "               color='w', marker='d', zorder=2);\n",
    "    ax.scatter(ix, lik_mean[iy], label='model mean -- $r^2$=%.2f -- mae=%.2f' %(r2, mae),\n",
    "               edgecolor='k', s=40, color='w', zorder=3)\n",
    "\n",
    "    ax.fill_between(ix, y1=lik_hpd_05[iy, 0], y2=lik_hpd_05[iy, 1], color='gray', \n",
    "                   label='model output 50%CI', zorder=1,linestyle='-', lw=2, edgecolor='k');\n",
    "    ax.fill_between(ix, y1=lik_hpd[iy, 0], y2=lik_hpd[iy, 1], color='k', alpha=0.75,\n",
    "                   label='model output 95%CI', zorder=0, );\n",
    "    if legend:\n",
    "        ax.legend(loc='upper left');\n",
    "    return ax\n",
    "\n",
    "\n",
    "def compute_fig_height(fig_width):\n",
    "    golden_mean = (sqrt(5)-1.0)/2.0    # Aesthetic ratio\n",
    "    return fig_width*golden_mean # height in inches\n",
    "\n",
    "\n",
    "def latexify(fig_width=None, fig_height=None, columns=1, square=False):\n",
    "    \"\"\"Set up matplotlib's RC params for LaTeX plotting.\n",
    "    Call this before plotting a figure.\n",
    "\n",
    "    Parameters\n",
    "    ----------\n",
    "    fig_width : float, optional, inches\n",
    "    fig_height : float,  optional, inches\n",
    "    columns : {1, 2}\n",
    "    PNAS 1-column figure width should be 3.5\"\n",
    "    PNAS 2-column wide figures should be 4.49\" or 7\" (??)\n",
    "    \"\"\"\n",
    "\n",
    "    # code adapted from http://www.scipy.org/Cookbook/Matplotlib/LaTeX_Examples\n",
    "    # Width and max height in inches for IEEE journals taken from\n",
    "    # computer.org/cms/Computer.org/Journal%20templates/transactions_art_guide.pdf\n",
    "    \n",
    "    assert(columns in [1,2])\n",
    "\n",
    "    if fig_width is None:\n",
    "        fig_width = 3.43 if columns==1 else 4.49 # width in inches\n",
    "\n",
    "    if fig_height is None:\n",
    "        if square:\n",
    "            fig_height = fig_width\n",
    "        else:\n",
    "            fig_height =  compute_fig_height(fig_width) # height in inches\n",
    "\n",
    "    MAX_HEIGHT_INCHES = 8.0\n",
    "    if fig_height > MAX_HEIGHT_INCHES:\n",
    "        print(\"WARNING: fig_height too large:\" + fig_height + \n",
    "              \"so will reduce to\" + MAX_HEIGHT_INCHES + \"inches.\")\n",
    "        fig_height = MAX_HEIGHT_INCHES\n",
    "\n",
    "    params = {'backend': 'ps',\n",
    "              'text.latex.preamble': [r'\\usepackage{gensymb}'],\n",
    "              'axes.labelsize': 8, # fontsize for x and y labels (was 10)\n",
    "              'axes.titlesize': 8,\n",
    "              'font.size': 8, # was 10\n",
    "              'legend.fontsize': 8, # was 10\n",
    "              'xtick.labelsize': 8,\n",
    "              'ytick.labelsize': 8,\n",
    "              'text.usetex': True,\n",
    "              'figure.figsize': [fig_width,fig_height],\n",
    "              'font.family': 'serif'\n",
    "    }\n",
    "\n",
    "    rcParams.update(params)"
   ]
  },
  {
   "cell_type": "markdown",
   "metadata": {},
   "source": [
    "#### Load linear regression results:"
   ]
  },
  {
   "cell_type": "code",
   "execution_count": 5,
   "metadata": {},
   "outputs": [],
   "source": [
    "\"\"\"hshoe_mdl_dict[m_hshoe_510.model.name] = dict(model=m_hshoe_510.model,\n",
    "                                              trace=m_hshoe_510.trace_,\n",
    "                                              ppc_train=ppc_train_510,\n",
    "                                              ppc_test=ppc_test_510)\n",
    "\"\"\"\n",
    "with open('./pickleJar/HSHOE_MDL_DICT.pkl', 'rb') as fb:\n",
    "    hshoe_mdl_dict = pickle.load(fb)"
   ]
  },
  {
   "cell_type": "markdown",
   "metadata": {},
   "source": [
    "#### Load linear regression with interactions results:"
   ]
  },
  {
   "cell_type": "code",
   "execution_count": 6,
   "metadata": {},
   "outputs": [],
   "source": [
    "with open('./pickleJar/Results_190118/hshoe_wi_model_dict.pkl', 'rb') as fb:\n",
    "    hshoe_mdl_w_int_dict = pickle.load(fb)"
   ]
  },
  {
   "cell_type": "markdown",
   "metadata": {},
   "source": [
    "#### Load bayesian neural network results:"
   ]
  },
  {
   "cell_type": "code",
   "execution_count": 165,
   "metadata": {},
   "outputs": [],
   "source": [
    "with open('./pickleJar/Results_190118/bnn_model_dict.pkl', 'rb') as fb:\n",
    "    bnn_mdl_dict = pickle.load(fb)"
   ]
  },
  {
   "cell_type": "code",
   "execution_count": 166,
   "metadata": {},
   "outputs": [
    {
     "data": {
      "text/plain": [
       "dict_keys([411, 443, 489, 510, 555, 670])"
      ]
     },
     "execution_count": 166,
     "metadata": {},
     "output_type": "execute_result"
    }
   ],
   "source": [
    "bnn_mdl_dict.keys()"
   ]
  },
  {
   "cell_type": "code",
   "execution_count": 9,
   "metadata": {},
   "outputs": [],
   "source": [
    "with open('./pickleJar/AphiTrainTestSplitDataSets.pkl', 'rb') as fb:\n",
    "    datadict = pickle.load(fb)\n",
    "X_s_train = datadict['x_train_s']\n",
    "y_train = datadict['y_train']\n",
    "X_s_test = datadict['x_test_s']\n",
    "y_test = datadict['y_test']\n",
    "X_s_train_w_int = datadict['x_train_wi_s']\n",
    "X_s_test_w_int = datadict['x_test_wi_s']"
   ]
  },
  {
   "cell_type": "code",
   "execution_count": 10,
   "metadata": {},
   "outputs": [
    {
     "data": {
      "text/html": [
       "<div>\n",
       "<style scoped>\n",
       "    .dataframe tbody tr th:only-of-type {\n",
       "        vertical-align: middle;\n",
       "    }\n",
       "\n",
       "    .dataframe tbody tr th {\n",
       "        vertical-align: top;\n",
       "    }\n",
       "\n",
       "    .dataframe thead th {\n",
       "        text-align: right;\n",
       "    }\n",
       "</style>\n",
       "<table border=\"1\" class=\"dataframe\">\n",
       "  <thead>\n",
       "    <tr style=\"text-align: right;\">\n",
       "      <th></th>\n",
       "      <th>dep</th>\n",
       "      <th>sst</th>\n",
       "      <th>solz</th>\n",
       "      <th>pc1</th>\n",
       "      <th>pc2</th>\n",
       "      <th>pc3</th>\n",
       "      <th>pc4</th>\n",
       "      <th>pc5</th>\n",
       "      <th>pc6</th>\n",
       "    </tr>\n",
       "  </thead>\n",
       "  <tbody>\n",
       "    <tr>\n",
       "      <th>104</th>\n",
       "      <td>1.561812</td>\n",
       "      <td>0.980019</td>\n",
       "      <td>-0.652818</td>\n",
       "      <td>0.189974</td>\n",
       "      <td>-0.414644</td>\n",
       "      <td>-0.933887</td>\n",
       "      <td>-0.510384</td>\n",
       "      <td>0.285450</td>\n",
       "      <td>0.064361</td>\n",
       "    </tr>\n",
       "    <tr>\n",
       "      <th>98</th>\n",
       "      <td>1.667105</td>\n",
       "      <td>-0.455988</td>\n",
       "      <td>-0.472027</td>\n",
       "      <td>0.579478</td>\n",
       "      <td>-0.554825</td>\n",
       "      <td>-0.349339</td>\n",
       "      <td>-0.066203</td>\n",
       "      <td>-1.129648</td>\n",
       "      <td>0.660823</td>\n",
       "    </tr>\n",
       "    <tr>\n",
       "      <th>16</th>\n",
       "      <td>-0.768789</td>\n",
       "      <td>-0.912078</td>\n",
       "      <td>0.498893</td>\n",
       "      <td>-0.484867</td>\n",
       "      <td>0.421179</td>\n",
       "      <td>-0.301039</td>\n",
       "      <td>0.747057</td>\n",
       "      <td>-0.227188</td>\n",
       "      <td>-0.363760</td>\n",
       "    </tr>\n",
       "    <tr>\n",
       "      <th>75</th>\n",
       "      <td>-0.742689</td>\n",
       "      <td>1.387941</td>\n",
       "      <td>-0.873786</td>\n",
       "      <td>0.084072</td>\n",
       "      <td>-0.869452</td>\n",
       "      <td>-0.196910</td>\n",
       "      <td>1.052647</td>\n",
       "      <td>0.434195</td>\n",
       "      <td>-0.296654</td>\n",
       "    </tr>\n",
       "    <tr>\n",
       "      <th>18</th>\n",
       "      <td>-1.067195</td>\n",
       "      <td>0.055796</td>\n",
       "      <td>1.208669</td>\n",
       "      <td>-1.146327</td>\n",
       "      <td>2.335666</td>\n",
       "      <td>-1.018783</td>\n",
       "      <td>-0.174597</td>\n",
       "      <td>1.969049</td>\n",
       "      <td>-1.271384</td>\n",
       "    </tr>\n",
       "  </tbody>\n",
       "</table>\n",
       "</div>"
      ],
      "text/plain": [
       "          dep       sst      solz       pc1       pc2       pc3       pc4  \\\n",
       "104  1.561812  0.980019 -0.652818  0.189974 -0.414644 -0.933887 -0.510384   \n",
       "98   1.667105 -0.455988 -0.472027  0.579478 -0.554825 -0.349339 -0.066203   \n",
       "16  -0.768789 -0.912078  0.498893 -0.484867  0.421179 -0.301039  0.747057   \n",
       "75  -0.742689  1.387941 -0.873786  0.084072 -0.869452 -0.196910  1.052647   \n",
       "18  -1.067195  0.055796  1.208669 -1.146327  2.335666 -1.018783 -0.174597   \n",
       "\n",
       "          pc5       pc6  \n",
       "104  0.285450  0.064361  \n",
       "98  -1.129648  0.660823  \n",
       "16  -0.227188 -0.363760  \n",
       "75   0.434195 -0.296654  \n",
       "18   1.969049 -1.271384  "
      ]
     },
     "execution_count": 10,
     "metadata": {},
     "output_type": "execute_result"
    }
   ],
   "source": [
    "X_s_train.head()"
   ]
  },
  {
   "cell_type": "code",
   "execution_count": 11,
   "metadata": {},
   "outputs": [
    {
     "data": {
      "text/html": [
       "<div>\n",
       "<style scoped>\n",
       "    .dataframe tbody tr th:only-of-type {\n",
       "        vertical-align: middle;\n",
       "    }\n",
       "\n",
       "    .dataframe tbody tr th {\n",
       "        vertical-align: top;\n",
       "    }\n",
       "\n",
       "    .dataframe thead th {\n",
       "        text-align: right;\n",
       "    }\n",
       "</style>\n",
       "<table border=\"1\" class=\"dataframe\">\n",
       "  <thead>\n",
       "    <tr style=\"text-align: right;\">\n",
       "      <th></th>\n",
       "      <th>dep</th>\n",
       "      <th>sst</th>\n",
       "      <th>solz</th>\n",
       "      <th>pc1</th>\n",
       "      <th>pc2</th>\n",
       "      <th>pc3</th>\n",
       "      <th>pc4</th>\n",
       "      <th>pc5</th>\n",
       "      <th>pc6</th>\n",
       "      <th>dep sst</th>\n",
       "      <th>...</th>\n",
       "      <th>pc2 pc3</th>\n",
       "      <th>pc2 pc4</th>\n",
       "      <th>pc2 pc5</th>\n",
       "      <th>pc2 pc6</th>\n",
       "      <th>pc3 pc4</th>\n",
       "      <th>pc3 pc5</th>\n",
       "      <th>pc3 pc6</th>\n",
       "      <th>pc4 pc5</th>\n",
       "      <th>pc4 pc6</th>\n",
       "      <th>pc5 pc6</th>\n",
       "    </tr>\n",
       "  </thead>\n",
       "  <tbody>\n",
       "    <tr>\n",
       "      <th>104</th>\n",
       "      <td>1.561812</td>\n",
       "      <td>0.980019</td>\n",
       "      <td>-0.652818</td>\n",
       "      <td>0.189974</td>\n",
       "      <td>-0.414644</td>\n",
       "      <td>-0.933887</td>\n",
       "      <td>-0.510384</td>\n",
       "      <td>0.285450</td>\n",
       "      <td>0.064361</td>\n",
       "      <td>1.530605</td>\n",
       "      <td>...</td>\n",
       "      <td>0.387230</td>\n",
       "      <td>0.211627</td>\n",
       "      <td>-0.118360</td>\n",
       "      <td>-0.026687</td>\n",
       "      <td>0.476641</td>\n",
       "      <td>-0.266578</td>\n",
       "      <td>-0.060106</td>\n",
       "      <td>-0.145689</td>\n",
       "      <td>-0.032849</td>\n",
       "      <td>0.018372</td>\n",
       "    </tr>\n",
       "    <tr>\n",
       "      <th>98</th>\n",
       "      <td>1.667105</td>\n",
       "      <td>-0.455988</td>\n",
       "      <td>-0.472027</td>\n",
       "      <td>0.579478</td>\n",
       "      <td>-0.554825</td>\n",
       "      <td>-0.349339</td>\n",
       "      <td>-0.066203</td>\n",
       "      <td>-1.129648</td>\n",
       "      <td>0.660823</td>\n",
       "      <td>-0.760180</td>\n",
       "      <td>...</td>\n",
       "      <td>0.193822</td>\n",
       "      <td>0.036731</td>\n",
       "      <td>0.626757</td>\n",
       "      <td>-0.366641</td>\n",
       "      <td>0.023127</td>\n",
       "      <td>0.394630</td>\n",
       "      <td>-0.230851</td>\n",
       "      <td>0.074786</td>\n",
       "      <td>-0.043748</td>\n",
       "      <td>-0.746497</td>\n",
       "    </tr>\n",
       "    <tr>\n",
       "      <th>16</th>\n",
       "      <td>-0.768789</td>\n",
       "      <td>-0.912078</td>\n",
       "      <td>0.498893</td>\n",
       "      <td>-0.484867</td>\n",
       "      <td>0.421179</td>\n",
       "      <td>-0.301039</td>\n",
       "      <td>0.747057</td>\n",
       "      <td>-0.227188</td>\n",
       "      <td>-0.363760</td>\n",
       "      <td>0.701195</td>\n",
       "      <td>...</td>\n",
       "      <td>-0.126791</td>\n",
       "      <td>0.314645</td>\n",
       "      <td>-0.095687</td>\n",
       "      <td>-0.153208</td>\n",
       "      <td>-0.224893</td>\n",
       "      <td>0.068392</td>\n",
       "      <td>0.109506</td>\n",
       "      <td>-0.169722</td>\n",
       "      <td>-0.271749</td>\n",
       "      <td>0.082642</td>\n",
       "    </tr>\n",
       "    <tr>\n",
       "      <th>75</th>\n",
       "      <td>-0.742689</td>\n",
       "      <td>1.387941</td>\n",
       "      <td>-0.873786</td>\n",
       "      <td>0.084072</td>\n",
       "      <td>-0.869452</td>\n",
       "      <td>-0.196910</td>\n",
       "      <td>1.052647</td>\n",
       "      <td>0.434195</td>\n",
       "      <td>-0.296654</td>\n",
       "      <td>-1.030809</td>\n",
       "      <td>...</td>\n",
       "      <td>0.171204</td>\n",
       "      <td>-0.915226</td>\n",
       "      <td>-0.377512</td>\n",
       "      <td>0.257926</td>\n",
       "      <td>-0.207277</td>\n",
       "      <td>-0.085497</td>\n",
       "      <td>0.058414</td>\n",
       "      <td>0.457055</td>\n",
       "      <td>-0.312272</td>\n",
       "      <td>-0.128806</td>\n",
       "    </tr>\n",
       "    <tr>\n",
       "      <th>18</th>\n",
       "      <td>-1.067195</td>\n",
       "      <td>0.055796</td>\n",
       "      <td>1.208669</td>\n",
       "      <td>-1.146327</td>\n",
       "      <td>2.335666</td>\n",
       "      <td>-1.018783</td>\n",
       "      <td>-0.174597</td>\n",
       "      <td>1.969049</td>\n",
       "      <td>-1.271384</td>\n",
       "      <td>-0.059546</td>\n",
       "      <td>...</td>\n",
       "      <td>-2.379536</td>\n",
       "      <td>-0.407800</td>\n",
       "      <td>4.599041</td>\n",
       "      <td>-2.969529</td>\n",
       "      <td>0.177876</td>\n",
       "      <td>-2.006033</td>\n",
       "      <td>1.295264</td>\n",
       "      <td>-0.343789</td>\n",
       "      <td>0.221979</td>\n",
       "      <td>-2.503417</td>\n",
       "    </tr>\n",
       "  </tbody>\n",
       "</table>\n",
       "<p>5 rows × 45 columns</p>\n",
       "</div>"
      ],
      "text/plain": [
       "          dep       sst      solz       pc1       pc2       pc3       pc4  \\\n",
       "104  1.561812  0.980019 -0.652818  0.189974 -0.414644 -0.933887 -0.510384   \n",
       "98   1.667105 -0.455988 -0.472027  0.579478 -0.554825 -0.349339 -0.066203   \n",
       "16  -0.768789 -0.912078  0.498893 -0.484867  0.421179 -0.301039  0.747057   \n",
       "75  -0.742689  1.387941 -0.873786  0.084072 -0.869452 -0.196910  1.052647   \n",
       "18  -1.067195  0.055796  1.208669 -1.146327  2.335666 -1.018783 -0.174597   \n",
       "\n",
       "          pc5       pc6   dep sst    ...      pc2 pc3   pc2 pc4   pc2 pc5  \\\n",
       "104  0.285450  0.064361  1.530605    ...     0.387230  0.211627 -0.118360   \n",
       "98  -1.129648  0.660823 -0.760180    ...     0.193822  0.036731  0.626757   \n",
       "16  -0.227188 -0.363760  0.701195    ...    -0.126791  0.314645 -0.095687   \n",
       "75   0.434195 -0.296654 -1.030809    ...     0.171204 -0.915226 -0.377512   \n",
       "18   1.969049 -1.271384 -0.059546    ...    -2.379536 -0.407800  4.599041   \n",
       "\n",
       "      pc2 pc6   pc3 pc4   pc3 pc5   pc3 pc6   pc4 pc5   pc4 pc6   pc5 pc6  \n",
       "104 -0.026687  0.476641 -0.266578 -0.060106 -0.145689 -0.032849  0.018372  \n",
       "98  -0.366641  0.023127  0.394630 -0.230851  0.074786 -0.043748 -0.746497  \n",
       "16  -0.153208 -0.224893  0.068392  0.109506 -0.169722 -0.271749  0.082642  \n",
       "75   0.257926 -0.207277 -0.085497  0.058414  0.457055 -0.312272 -0.128806  \n",
       "18  -2.969529  0.177876 -2.006033  1.295264 -0.343789  0.221979 -2.503417  \n",
       "\n",
       "[5 rows x 45 columns]"
      ]
     },
     "execution_count": 11,
     "metadata": {},
     "output_type": "execute_result"
    }
   ],
   "source": [
    "X_s_train_w_int.head()"
   ]
  },
  {
   "cell_type": "code",
   "execution_count": 12,
   "metadata": {},
   "outputs": [],
   "source": [
    "feature_labels = X_s_train.columns.tolist()\n",
    "feature_w_int_labels = X_s_train_w_int.columns.tolist() "
   ]
  },
  {
   "cell_type": "code",
   "execution_count": 13,
   "metadata": {},
   "outputs": [],
   "source": [
    "bnn_411_feature_labels = [r'%s$\\rightarrow$%d' %(feature, unit)\n",
    "                         for feature in feature_labels for unit in range(1, 5)]"
   ]
  },
  {
   "cell_type": "markdown",
   "metadata": {},
   "source": [
    "HEATMAP"
   ]
  },
  {
   "cell_type": "code",
   "execution_count": 15,
   "metadata": {},
   "outputs": [
    {
     "data": {
      "image/png": "[encoded data removed]",
      "text/plain": [
       "<Figure size 432x288 with 2 Axes>"
      ]
     },
     "metadata": {},
     "output_type": "display_data"
    }
   ],
   "source": [
    "#latexify(fig_height=3.4)\n",
    "f, ax = pl.subplots()\n",
    "ax = plot_pairwise_map(pd.concat((X_s_train, y_train), axis=1), ax=ax,)\n",
    "f.tight_layout()\n",
    "f.savefig('./figJar/aphy_heatmap.pdf')"
   ]
  },
  {
   "cell_type": "markdown",
   "metadata": {},
   "source": [
    "FORESTPLOTS"
   ]
  },
  {
   "cell_type": "code",
   "execution_count": 136,
   "metadata": {},
   "outputs": [],
   "source": [
    "dfs_reg_411 = create_smry(hshoe_mdl_dict['hshoe_aphy411']['trace'], feature_labels, abs_sort=True,\n",
    "                         subset_significant=True)\n",
    "dfs_reg_wi_411 = create_smry(hshoe_mdl_w_int_dict[411]['trace'], feature_w_int_labels,\n",
    "                             abs_sort=True, subset_significant=True)\n",
    "dfs_bnn_411 = create_smry(bnn_mdl_dict[411]['trace'],\n",
    "                          bnn_411_feature_labels, vname=['wts_i_1'], abs_sort=True,\n",
    "                         subset_significant=True)"
   ]
  },
  {
   "cell_type": "code",
   "execution_count": 137,
   "metadata": {},
   "outputs": [
    {
     "data": {
      "image/png": "[encoded data removed]",
      "text/plain": [
       "<Figure size 246.96x252 with 3 Axes>"
      ]
     },
     "metadata": {},
     "output_type": "display_data"
    }
   ],
   "source": [
    "latexify(fig_height=3.5)\n",
    "f_forest = pl.figure(constrained_layout=True)\n",
    "gs = f_forest.add_gridspec(4, 1)\n",
    "ax1 = f_forest.add_subplot(gs[0])\n",
    "ax2 = f_forest.add_subplot(gs[1])\n",
    "ax3 = f_forest.add_subplot(gs[2:])\n",
    "custom_forestplot(dfs_reg_411, ax=ax1)\n",
    "custom_forestplot(dfs_reg_wi_411, ax=ax2)\n",
    "custom_forestplot(dfs_bnn_411, ax=ax3)\n",
    "f_forest.tight_layout()\n",
    "f_forest.subplots_adjust(hspace=0.4)"
   ]
  },
  {
   "cell_type": "code",
   "execution_count": 71,
   "metadata": {},
   "outputs": [
    {
     "data": {
      "image/png": "[encoded data removed]",
      "text/plain": [
       "<Figure size 246.96x252 with 3 Axes>"
      ]
     },
     "metadata": {},
     "output_type": "display_data"
    }
   ],
   "source": [
    "latexify(fig_height=3.5)\n",
    "f_forest = pl.figure(constrained_layout=True)\n",
    "gs = f_forest.add_gridspec(4, 1)\n",
    "ax1 = f_forest.add_subplot(gs[0])\n",
    "ax2 = f_forest.add_subplot(gs[1])\n",
    "ax3 = f_forest.add_subplot(gs[2:])\n",
    "custom_forestplot(dfs_reg_411, ax=ax1)\n",
    "custom_forestplot(dfs_reg_wi_411, ax=ax2)\n",
    "custom_forestplot(dfs_bnn_411, ax=ax3)\n",
    "f_forest.tight_layout()\n",
    "f_forest.subplots_adjust(hspace=0.4)\n",
    "f_forest.savefig('./figJar/forest_411.pdf')"
   ]
  },
  {
   "cell_type": "markdown",
   "metadata": {},
   "source": [
    "\n",
    "SCATTERPLOTS"
   ]
  },
  {
   "cell_type": "code",
   "execution_count": 73,
   "metadata": {},
   "outputs": [
    {
     "data": {
      "text/plain": [
       "dict_keys(['hshoe_aphy411', 'hshoe_aphy443', 'hshoe_aphy489', 'hshoe_aphy510', 'hshoe_aphy555', 'hshoe_aphy670'])"
      ]
     },
     "execution_count": 73,
     "metadata": {},
     "output_type": "execute_result"
    }
   ],
   "source": [
    "hshoe_mdl_dict.keys()"
   ]
  },
  {
   "cell_type": "code",
   "execution_count": 167,
   "metadata": {},
   "outputs": [],
   "source": [
    "bands = [411, 443, 489, 510, 555, 670]\n",
    "ppc_test_hs_dict = {l: hshoe_mdl_dict['hshoe_aphy%d' %l]['ppc_test'] for l in bands}\n",
    "ppc_test_hs_wi_dict = {l: hshoe_mdl_w_int_dict[l]['ppc_test'] for l in bands}\n",
    "ppc_test_bnn_dict = {l: bnn_mdl_dict[l]['ppc_test'] for l in bands}"
   ]
  },
  {
   "cell_type": "code",
   "execution_count": 130,
   "metadata": {
    "scrolled": false
   },
   "outputs": [],
   "source": [
    "def make_scatter_plot(ppc_test_dict, cm_name='gist_yarg'):\n",
    "    cmap = cm.get_cmap('gist_yarg')\n",
    "    normalize = Normalize(vmin=min(bands), vmax=max(bands))\n",
    "    colors = [cmap(normalize(value)) for value in bands]\n",
    "    latexify(square=True)\n",
    "    f, ax_ = pl.subplots()\n",
    "    for i, band in enumerate(bands):\n",
    "        plot_obs_against_ppc(y_test['log10_aphy%d' %band], ppc_test_dict[band],\n",
    "                             s=40, ax=ax_, c=colors[i], label='%d' % band)\n",
    "    ax_.plot([-3.4, -1], [-3.4, -1], color='k', ls='--')\n",
    "    ax_.legend(title=r'a$\\phi$ band; r$^2$; mae', fontsize=7, loc='upper left',\n",
    "       frameon=False, markerscale=0.7, markerfirst=True)\n",
    "    ax_.set_xlabel('model output mean')\n",
    "    ax_.set_ylabel('observed')\n",
    "    f.tight_layout()\n",
    "    return f\n"
   ]
  },
  {
   "cell_type": "code",
   "execution_count": 131,
   "metadata": {},
   "outputs": [
    {
     "name": "stderr",
     "output_type": "stream",
     "text": [
      "'c' argument looks like a single numeric RGB or RGBA sequence, which should be avoided as value-mapping will have precedence in case its length matches with 'x' & 'y'.  Please use a 2-D array with a single row if you really want to specify the same RGB or RGBA value for all points.\n",
      "'c' argument looks like a single numeric RGB or RGBA sequence, which should be avoided as value-mapping will have precedence in case its length matches with 'x' & 'y'.  Please use a 2-D array with a single row if you really want to specify the same RGB or RGBA value for all points.\n",
      "'c' argument looks like a single numeric RGB or RGBA sequence, which should be avoided as value-mapping will have precedence in case its length matches with 'x' & 'y'.  Please use a 2-D array with a single row if you really want to specify the same RGB or RGBA value for all points.\n",
      "'c' argument looks like a single numeric RGB or RGBA sequence, which should be avoided as value-mapping will have precedence in case its length matches with 'x' & 'y'.  Please use a 2-D array with a single row if you really want to specify the same RGB or RGBA value for all points.\n",
      "'c' argument looks like a single numeric RGB or RGBA sequence, which should be avoided as value-mapping will have precedence in case its length matches with 'x' & 'y'.  Please use a 2-D array with a single row if you really want to specify the same RGB or RGBA value for all points.\n",
      "'c' argument looks like a single numeric RGB or RGBA sequence, which should be avoided as value-mapping will have precedence in case its length matches with 'x' & 'y'.  Please use a 2-D array with a single row if you really want to specify the same RGB or RGBA value for all points.\n"
     ]
    },
    {
     "data": {
      "image/png": "[encoded data removed]",
      "text/plain": [
       "<Figure size 246.96x246.96 with 1 Axes>"
      ]
     },
     "metadata": {},
     "output_type": "display_data"
    }
   ],
   "source": [
    "f_sc_reg = make_scatter_plot(ppc_test_hs_dict)"
   ]
  },
  {
   "cell_type": "code",
   "execution_count": 132,
   "metadata": {},
   "outputs": [],
   "source": [
    "f_sc_reg.savefig('./figJar/scatter_lin_reg.pdf', format='pdf', dpi=300)"
   ]
  },
  {
   "cell_type": "code",
   "execution_count": 133,
   "metadata": {},
   "outputs": [
    {
     "name": "stderr",
     "output_type": "stream",
     "text": [
      "'c' argument looks like a single numeric RGB or RGBA sequence, which should be avoided as value-mapping will have precedence in case its length matches with 'x' & 'y'.  Please use a 2-D array with a single row if you really want to specify the same RGB or RGBA value for all points.\n",
      "'c' argument looks like a single numeric RGB or RGBA sequence, which should be avoided as value-mapping will have precedence in case its length matches with 'x' & 'y'.  Please use a 2-D array with a single row if you really want to specify the same RGB or RGBA value for all points.\n",
      "'c' argument looks like a single numeric RGB or RGBA sequence, which should be avoided as value-mapping will have precedence in case its length matches with 'x' & 'y'.  Please use a 2-D array with a single row if you really want to specify the same RGB or RGBA value for all points.\n",
      "'c' argument looks like a single numeric RGB or RGBA sequence, which should be avoided as value-mapping will have precedence in case its length matches with 'x' & 'y'.  Please use a 2-D array with a single row if you really want to specify the same RGB or RGBA value for all points.\n",
      "'c' argument looks like a single numeric RGB or RGBA sequence, which should be avoided as value-mapping will have precedence in case its length matches with 'x' & 'y'.  Please use a 2-D array with a single row if you really want to specify the same RGB or RGBA value for all points.\n",
      "'c' argument looks like a single numeric RGB or RGBA sequence, which should be avoided as value-mapping will have precedence in case its length matches with 'x' & 'y'.  Please use a 2-D array with a single row if you really want to specify the same RGB or RGBA value for all points.\n"
     ]
    },
    {
     "data": {
      "image/png": "[encoded data removed]",
      "text/plain": [
       "<Figure size 246.96x246.96 with 1 Axes>"
      ]
     },
     "metadata": {},
     "output_type": "display_data"
    }
   ],
   "source": [
    "f_sc_reg_wi = make_scatter_plot(ppc_test_hs_wi_dict)\n",
    "f_sc_reg_wi.savefig('./figJar/scatter_lin_reg_wi.pdf', format='pdf', dpi=300)"
   ]
  },
  {
   "cell_type": "markdown",
   "metadata": {},
   "source": [
    "## PPCPLOTS"
   ]
  },
  {
   "cell_type": "code",
   "execution_count": null,
   "metadata": {},
   "outputs": [],
   "source": [
    "f_sc_bnn = make_scatter_plot(ppc_test_bnn_dict)\n",
    "f_sc_bnn.savefig('./figJar/scatter_lin_reg_wi.pdf', format='pdf', dpi=300)"
   ]
  },
  {
   "cell_type": "code",
   "execution_count": 87,
   "metadata": {},
   "outputs": [
    {
     "data": {
      "text/plain": [
       "((8000, 145), (8000, 17), (8000, 17))"
      ]
     },
     "execution_count": 87,
     "metadata": {},
     "output_type": "execute_result"
    }
   ],
   "source": [
    "ppc_test_bnn_dict[411].shape, ppc_test_hs_dict[411].shape, ppc_test_hs_wi_dict[411].shape"
   ]
  },
  {
   "cell_type": "code",
   "execution_count": 115,
   "metadata": {},
   "outputs": [],
   "source": [
    "ppc_test_bnn_dict[411] = ppc_a"
   ]
  },
  {
   "cell_type": "code",
   "execution_count": null,
   "metadata": {},
   "outputs": [],
   "source": []
  },
  {
   "cell_type": "code",
   "execution_count": 157,
   "metadata": {},
   "outputs": [],
   "source": [
    "\n",
    "ai = [i for i in axi.get_yticklabels()]"
   ]
  },
  {
   "cell_type": "code",
   "execution_count": 159,
   "metadata": {},
   "outputs": [],
   "source": [
    "a0 = ai[0]"
   ]
  },
  {
   "cell_type": "code",
   "execution_count": 164,
   "metadata": {},
   "outputs": [
    {
     "data": {
      "text/plain": [
       "0.001"
      ]
     },
     "execution_count": 164,
     "metadata": {},
     "output_type": "execute_result"
    }
   ],
   "source": [
    "10**float(a0.get_text().strip('$'))"
   ]
  },
  {
   "cell_type": "code",
   "execution_count": 152,
   "metadata": {},
   "outputs": [
    {
     "data": {
      "image/png": "[encoded data removed]",
      "text/plain": [
       "<Figure size 246.96x360 with 3 Axes>"
      ]
     },
     "metadata": {},
     "output_type": "display_data"
    }
   ],
   "source": [
    "latexify(fig_height=5, )\n",
    "f, ax = pl.subplots(nrows=3, sharex=True)\n",
    "for axi, ppc_test_dict in zip(ax, [ppc_test_hs_dict, ppc_test_hs_wi_dict, ppc_test_bnn_dict]):\n",
    "    plot_fits_w_estimates(y_obs=y_test['log10_aphy411'],\n",
    "                              ppc=ppc_test_dict[411], ax=axi)\n",
    "    axi.grid(axis='x', which='both')\n",
    "    axi.set_ylabel(r'$a\\phi(411)$')\n",
    "axi.set_xlabel(r'observation \\#');\n",
    "axi.set_xticks(np.arange(0,17, 2))\n",
    "axi.set_xticklabels(np.arange(1, 18, 2))\n",
    "f.tight_layout()\n",
    "f.savefig('./figJar/aphi_test_sets_HDI.pdf')"
   ]
  },
  {
   "cell_type": "markdown",
   "metadata": {},
   "source": [
    "### MODEL PLATE"
   ]
  },
  {
   "cell_type": "code",
   "execution_count": 172,
   "metadata": {},
   "outputs": [],
   "source": [
    "with open('./pickleJar/Hshoe_example_model.pkl', 'rb') as fb:\n",
    "    mhsoe_mdl = pickle.load(fb)"
   ]
  },
  {
   "cell_type": "code",
   "execution_count": 111,
   "metadata": {},
   "outputs": [],
   "source": [
    "from theano import shared\n",
    "y_shared = shared(y_test.log10_aphy411.values)"
   ]
  },
  {
   "cell_type": "code",
   "execution_count": 112,
   "metadata": {},
   "outputs": [
    {
     "name": "stderr",
     "output_type": "stream",
     "text": [
      "100%|██████████| 8000/8000 [00:00<00:00, 13772.85it/s]\n"
     ]
    }
   ],
   "source": [
    "ppc = pm.sample_posterior_predictive(trace=bnn_mdl_dict[411]['trace'], model=bnn_mdl_dict[411]['model'],\n",
    "                              vars=[y_shared])"
   ]
  },
  {
   "cell_type": "code",
   "execution_count": 106,
   "metadata": {},
   "outputs": [
    {
     "data": {
      "text/plain": [
       "(17, 9)"
      ]
     },
     "execution_count": 106,
     "metadata": {},
     "output_type": "execute_result"
    }
   ],
   "source": []
  },
  {
   "cell_type": "code",
   "execution_count": 113,
   "metadata": {},
   "outputs": [],
   "source": [
    "ppc_a = ppc[None]"
   ]
  },
  {
   "cell_type": "code",
   "execution_count": 114,
   "metadata": {},
   "outputs": [
    {
     "data": {
      "text/plain": [
       "(8000, 17)"
      ]
     },
     "execution_count": 114,
     "metadata": {},
     "output_type": "execute_result"
    }
   ],
   "source": [
    "ppc_a.shape"
   ]
  },
  {
   "cell_type": "code",
   "execution_count": 117,
   "metadata": {},
   "outputs": [],
   "source": [
    "mdl = bnn_mdl_dict[411]['model']"
   ]
  },
  {
   "cell_type": "code",
   "execution_count": 123,
   "metadata": {},
   "outputs": [
    {
     "data": {
      "text/plain": [
       "[hyp_w_i_1_sd_log__,\n",
       " hyp_w_1_out_sd_log__,\n",
       " hyp_bias_1_sd_log__,\n",
       " wts_i_1_intrmd_ordered__,\n",
       " wts_1_o_intrmd,\n",
       " bias_1_ordered__,\n",
       " bias_o,\n",
       " sd_log__]"
      ]
     },
     "execution_count": 123,
     "metadata": {},
     "output_type": "execute_result"
    }
   ],
   "source": [
    "mdl.vars"
   ]
  },
  {
   "cell_type": "code",
   "execution_count": 124,
   "metadata": {},
   "outputs": [],
   "source": [
    "with open('./pickleJar/BNN181210/HlfCchyHypPriors/models.pkl', 'rb') as fb:\n",
    "    m = pickle.load(fb)"
   ]
  },
  {
   "cell_type": "code",
   "execution_count": 125,
   "metadata": {},
   "outputs": [
    {
     "data": {
      "text/plain": [
       "dict_keys(['bnn_L1_4HL_411', 'bnn_L1_4HL_443', 'bnn_L1_4HL_489', 'bnn_L1_4HL_510', 'bnn_L1_4HL_555', 'bnn_L1_4HL_670'])"
      ]
     },
     "execution_count": 125,
     "metadata": {},
     "output_type": "execute_result"
    }
   ],
   "source": [
    "m.keys()"
   ]
  },
  {
   "cell_type": "code",
   "execution_count": 127,
   "metadata": {},
   "outputs": [],
   "source": [
    "mdl = m['bnn_L1_4HL_411']"
   ]
  },
  {
   "cell_type": "code",
   "execution_count": null,
   "metadata": {},
   "outputs": [],
   "source": [
    "mdl.predict()"
   ]
  }
 ],
 "metadata": {
  "kernelspec": {
   "display_name": "Python 3",
   "language": "python",
   "name": "python3"
  },
  "language_info": {
   "codemirror_mode": {
    "name": "ipython",
    "version": 3
   },
   "file_extension": ".py",
   "mimetype": "text/x-python",
   "name": "python",
   "nbconvert_exporter": "python",
   "pygments_lexer": "ipython3",
   "version": "3.6.6"
  }
 },
 "nbformat": 4,
 "nbformat_minor": 2
}
