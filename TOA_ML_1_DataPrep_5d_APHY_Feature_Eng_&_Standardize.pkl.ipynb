{
 "cells": [
  {
   "cell_type": "code",
   "execution_count": 1,
   "metadata": {},
   "outputs": [],
   "source": [
    "import pickle\n",
    "import warnings\n",
    "warnings.filterwarnings('ignore')\n",
    "from sklearn.preprocessing import StandardScaler, PolynomialFeatures\n",
    "import pandas as pd\n",
    "from pandas.plotting import scatter_matrix\n",
    "import numpy as np\n",
    "import matplotlib.pyplot as pl\n",
    "from matplotlib import rcParams\n",
    "from seaborn import PairGrid, heatmap, kdeplot\n",
    "import cmocean.cm as cmo"
   ]
  },
  {
   "cell_type": "code",
   "execution_count": 3,
   "metadata": {},
   "outputs": [],
   "source": [
    "% matplotlib inline\n",
    "rcParams['axes.titlesize'] = 18\n",
    "rcParams['xtick.labelsize'] = 16\n",
    "rcParams['ytick.labelsize'] = 16\n",
    "rcParams['axes.labelsize'] = 16\n",
    "rcParams['font.size'] = 16"
   ]
  },
  {
   "cell_type": "code",
   "execution_count": 6,
   "metadata": {},
   "outputs": [],
   "source": [
    "df = pd.read_pickle('./pickleJar/df_5_APHY.pkl')"
   ]
  },
  {
   "cell_type": "code",
   "execution_count": 7,
   "metadata": {},
   "outputs": [
    {
     "name": "stdout",
     "output_type": "stream",
     "text": [
      "<class 'pandas.core.frame.DataFrame'>\n",
      "Int64Index: 495 entries, 0 to 494\n",
      "Data columns (total 36 columns):\n",
      "sin_doy         495 non-null float64\n",
      "cos_doy         495 non-null float64\n",
      "sin_minofday    495 non-null float64\n",
      "cos_minofday    495 non-null float64\n",
      "x               495 non-null float64\n",
      "y               495 non-null float64\n",
      "z               495 non-null float64\n",
      "log10_etopo2    495 non-null float64\n",
      "oisst           495 non-null float64\n",
      "solz            495 non-null float64\n",
      "PC1             494 non-null float64\n",
      "PC2             494 non-null float64\n",
      "PC3             494 non-null float64\n",
      "PC4             494 non-null float64\n",
      "PC5             494 non-null float64\n",
      "PC6             494 non-null float64\n",
      "aphy405         495 non-null float64\n",
      "aphy411         495 non-null float64\n",
      "aphy443         495 non-null float64\n",
      "aphy455         495 non-null float64\n",
      "aphy465         495 non-null float64\n",
      "aphy489         495 non-null float64\n",
      "aphy510         495 non-null float64\n",
      "aphy520         495 non-null float64\n",
      "aphy530         495 non-null float64\n",
      "aphy550         495 non-null float64\n",
      "aphy555         495 non-null float64\n",
      "aphy560         495 non-null float64\n",
      "aphy565         495 non-null float64\n",
      "aphy570         495 non-null float64\n",
      "aphy590         495 non-null float64\n",
      "aphy619         495 non-null float64\n",
      "aphy625         495 non-null float64\n",
      "aphy665         495 non-null float64\n",
      "aphy670         495 non-null float64\n",
      "aphy683         495 non-null float64\n",
      "dtypes: float64(36)\n",
      "memory usage: 143.1 KB\n"
     ]
    }
   ],
   "source": [
    "df.info()"
   ]
  },
  {
   "cell_type": "code",
   "execution_count": null,
   "metadata": {},
   "outputs": [],
   "source": [
    "np.nanmean - np.nanstd()"
   ]
  }
 ],
 "metadata": {
  "kernelspec": {
   "display_name": "Python [conda env:machine_learning]",
   "language": "python",
   "name": "conda-env-machine_learning-py"
  },
  "language_info": {
   "codemirror_mode": {
    "name": "ipython",
    "version": 3
   },
   "file_extension": ".py",
   "mimetype": "text/x-python",
   "name": "python",
   "nbconvert_exporter": "python",
   "pygments_lexer": "ipython3",
   "version": "3.6.5"
  }
 },
 "nbformat": 4,
 "nbformat_minor": 2
}
